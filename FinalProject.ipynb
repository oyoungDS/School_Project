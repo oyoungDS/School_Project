{
 "cells": [
  {
   "cell_type": "code",
   "execution_count": 1,
   "metadata": {},
   "outputs": [
    {
     "name": "stdout",
     "output_type": "stream",
     "text": [
      "Collecting pandas-profiling\n",
      "  Downloading pandas_profiling-2.11.0-py2.py3-none-any.whl (243 kB)\n",
      "Requirement already satisfied: pandas!=1.0.0,!=1.0.1,!=1.0.2,!=1.1.0,>=0.25.3 in c:\\users\\spongebob\\appdata\\local\\programs\\python\\python38\\lib\\site-packages (from pandas-profiling) (1.2.1)\n",
      "Requirement already satisfied: matplotlib>=3.2.0 in c:\\users\\spongebob\\appdata\\local\\programs\\python\\python38\\lib\\site-packages (from pandas-profiling) (3.3.4)\n",
      "Requirement already satisfied: jinja2>=2.11.1 in c:\\users\\spongebob\\appdata\\local\\programs\\python\\python38\\lib\\site-packages (from pandas-profiling) (2.11.2)\n",
      "Collecting visions[type_image_path]==0.6.0\n",
      "  Downloading visions-0.6.0-py3-none-any.whl (75 kB)\n",
      "Collecting missingno>=0.4.2\n",
      "  Downloading missingno-0.4.2-py3-none-any.whl (9.7 kB)\n",
      "Collecting tqdm>=4.48.2\n",
      "  Downloading tqdm-4.58.0-py2.py3-none-any.whl (73 kB)\n",
      "Requirement already satisfied: scipy>=1.4.1 in c:\\users\\spongebob\\appdata\\local\\programs\\python\\python38\\lib\\site-packages (from pandas-profiling) (1.6.0)\n",
      "Requirement already satisfied: seaborn>=0.10.1 in c:\\users\\spongebob\\appdata\\local\\programs\\python\\python38\\lib\\site-packages (from pandas-profiling) (0.11.1)\n",
      "Requirement already satisfied: numpy>=1.16.0 in c:\\users\\spongebob\\appdata\\local\\programs\\python\\python38\\lib\\site-packages (from pandas-profiling) (1.19.5)\n",
      "Requirement already satisfied: attrs>=19.3.0 in c:\\users\\spongebob\\appdata\\local\\programs\\python\\python38\\lib\\site-packages (from pandas-profiling) (20.3.0)\n",
      "Collecting tangled-up-in-unicode>=0.0.6\n",
      "  Downloading tangled_up_in_unicode-0.0.6-py3-none-any.whl (3.1 MB)\n",
      "Collecting htmlmin>=0.1.12\n",
      "  Downloading htmlmin-0.1.12.tar.gz (19 kB)\n",
      "Collecting requests>=2.24.0\n",
      "  Using cached requests-2.25.1-py2.py3-none-any.whl (61 kB)\n",
      "Collecting phik>=0.10.0\n",
      "  Downloading phik-0.11.1.tar.gz (596 kB)\n",
      "Requirement already satisfied: ipywidgets>=7.5.1 in c:\\users\\spongebob\\appdata\\local\\programs\\python\\python38\\lib\\site-packages (from pandas-profiling) (7.6.3)\n",
      "Collecting confuse>=1.0.0\n",
      "  Downloading confuse-1.4.0-py2.py3-none-any.whl (21 kB)\n",
      "Requirement already satisfied: joblib in c:\\users\\spongebob\\appdata\\local\\programs\\python\\python38\\lib\\site-packages (from pandas-profiling) (1.0.0)\n",
      "Collecting networkx>=2.4\n",
      "  Downloading networkx-2.5-py3-none-any.whl (1.6 MB)\n",
      "Collecting imagehash\n",
      "  Downloading ImageHash-4.2.0-py2.py3-none-any.whl (295 kB)\n",
      "Requirement already satisfied: Pillow in c:\\users\\spongebob\\appdata\\local\\programs\\python\\python38\\lib\\site-packages (from visions[type_image_path]==0.6.0->pandas-profiling) (8.1.0)\n",
      "Collecting pyyaml\n",
      "  Downloading PyYAML-5.4.1-cp38-cp38-win_amd64.whl (213 kB)\n",
      "Requirement already satisfied: widgetsnbextension~=3.5.0 in c:\\users\\spongebob\\appdata\\local\\programs\\python\\python38\\lib\\site-packages (from ipywidgets>=7.5.1->pandas-profiling) (3.5.1)\n",
      "Requirement already satisfied: jupyterlab-widgets>=1.0.0 in c:\\users\\spongebob\\appdata\\local\\programs\\python\\python38\\lib\\site-packages (from ipywidgets>=7.5.1->pandas-profiling) (1.0.0)\n",
      "Requirement already satisfied: ipykernel>=4.5.1 in c:\\users\\spongebob\\appdata\\local\\programs\\python\\python38\\lib\\site-packages (from ipywidgets>=7.5.1->pandas-profiling) (5.4.3)\n",
      "Requirement already satisfied: traitlets>=4.3.1 in c:\\users\\spongebob\\appdata\\local\\programs\\python\\python38\\lib\\site-packages (from ipywidgets>=7.5.1->pandas-profiling) (5.0.5)\n",
      "Requirement already satisfied: nbformat>=4.2.0 in c:\\users\\spongebob\\appdata\\local\\programs\\python\\python38\\lib\\site-packages (from ipywidgets>=7.5.1->pandas-profiling) (5.1.2)\n",
      "Requirement already satisfied: ipython>=4.0.0 in c:\\users\\spongebob\\appdata\\local\\programs\\python\\python38\\lib\\site-packages (from ipywidgets>=7.5.1->pandas-profiling) (7.19.0)\n",
      "Requirement already satisfied: tornado>=4.2 in c:\\users\\spongebob\\appdata\\local\\programs\\python\\python38\\lib\\site-packages (from ipykernel>=4.5.1->ipywidgets>=7.5.1->pandas-profiling) (6.1)\n",
      "Requirement already satisfied: jupyter-client in c:\\users\\spongebob\\appdata\\local\\programs\\python\\python38\\lib\\site-packages (from ipykernel>=4.5.1->ipywidgets>=7.5.1->pandas-profiling) (6.1.11)\n",
      "Requirement already satisfied: jedi>=0.10 in c:\\users\\spongebob\\appdata\\local\\programs\\python\\python38\\lib\\site-packages (from ipython>=4.0.0->ipywidgets>=7.5.1->pandas-profiling) (0.18.0)\n",
      "Requirement already satisfied: decorator in c:\\users\\spongebob\\appdata\\local\\programs\\python\\python38\\lib\\site-packages (from ipython>=4.0.0->ipywidgets>=7.5.1->pandas-profiling) (4.4.2)\n",
      "Requirement already satisfied: pickleshare in c:\\users\\spongebob\\appdata\\local\\programs\\python\\python38\\lib\\site-packages (from ipython>=4.0.0->ipywidgets>=7.5.1->pandas-profiling) (0.7.5)\n",
      "Requirement already satisfied: setuptools>=18.5 in c:\\users\\spongebob\\appdata\\local\\programs\\python\\python38\\lib\\site-packages (from ipython>=4.0.0->ipywidgets>=7.5.1->pandas-profiling) (49.2.1)\n",
      "Requirement already satisfied: backcall in c:\\users\\spongebob\\appdata\\local\\programs\\python\\python38\\lib\\site-packages (from ipython>=4.0.0->ipywidgets>=7.5.1->pandas-profiling) (0.2.0)\n",
      "Requirement already satisfied: colorama in c:\\users\\spongebob\\appdata\\local\\programs\\python\\python38\\lib\\site-packages (from ipython>=4.0.0->ipywidgets>=7.5.1->pandas-profiling) (0.4.4)\n",
      "Requirement already satisfied: pygments in c:\\users\\spongebob\\appdata\\local\\programs\\python\\python38\\lib\\site-packages (from ipython>=4.0.0->ipywidgets>=7.5.1->pandas-profiling) (2.7.4)\n",
      "Requirement already satisfied: prompt-toolkit!=3.0.0,!=3.0.1,<3.1.0,>=2.0.0 in c:\\users\\spongebob\\appdata\\local\\programs\\python\\python38\\lib\\site-packages (from ipython>=4.0.0->ipywidgets>=7.5.1->pandas-profiling) (3.0.14)\n",
      "Requirement already satisfied: parso<0.9.0,>=0.8.0 in c:\\users\\spongebob\\appdata\\local\\programs\\python\\python38\\lib\\site-packages (from jedi>=0.10->ipython>=4.0.0->ipywidgets>=7.5.1->pandas-profiling) (0.8.1)\n",
      "Requirement already satisfied: MarkupSafe>=0.23 in c:\\users\\spongebob\\appdata\\local\\programs\\python\\python38\\lib\\site-packages (from jinja2>=2.11.1->pandas-profiling) (1.1.1)\n",
      "Requirement already satisfied: kiwisolver>=1.0.1 in c:\\users\\spongebob\\appdata\\local\\programs\\python\\python38\\lib\\site-packages (from matplotlib>=3.2.0->pandas-profiling) (1.3.1)\n",
      "Requirement already satisfied: cycler>=0.10 in c:\\users\\spongebob\\appdata\\local\\programs\\python\\python38\\lib\\site-packages (from matplotlib>=3.2.0->pandas-profiling) (0.10.0)\n",
      "Requirement already satisfied: pyparsing!=2.0.4,!=2.1.2,!=2.1.6,>=2.0.3 in c:\\users\\spongebob\\appdata\\local\\programs\\python\\python38\\lib\\site-packages (from matplotlib>=3.2.0->pandas-profiling) (2.4.7)\n",
      "Requirement already satisfied: python-dateutil>=2.1 in c:\\users\\spongebob\\appdata\\local\\programs\\python\\python38\\lib\\site-packages (from matplotlib>=3.2.0->pandas-profiling) (2.8.1)\n",
      "Requirement already satisfied: six in c:\\users\\spongebob\\appdata\\local\\programs\\python\\python38\\lib\\site-packages (from cycler>=0.10->matplotlib>=3.2.0->pandas-profiling) (1.15.0)\n",
      "Requirement already satisfied: jupyter-core in c:\\users\\spongebob\\appdata\\local\\programs\\python\\python38\\lib\\site-packages (from nbformat>=4.2.0->ipywidgets>=7.5.1->pandas-profiling) (4.7.0)\n",
      "Requirement already satisfied: ipython-genutils in c:\\users\\spongebob\\appdata\\local\\programs\\python\\python38\\lib\\site-packages (from nbformat>=4.2.0->ipywidgets>=7.5.1->pandas-profiling) (0.2.0)\n",
      "Requirement already satisfied: jsonschema!=2.5.0,>=2.4 in c:\\users\\spongebob\\appdata\\local\\programs\\python\\python38\\lib\\site-packages (from nbformat>=4.2.0->ipywidgets>=7.5.1->pandas-profiling) (3.2.0)\n",
      "Requirement already satisfied: pyrsistent>=0.14.0 in c:\\users\\spongebob\\appdata\\local\\programs\\python\\python38\\lib\\site-packages (from jsonschema!=2.5.0,>=2.4->nbformat>=4.2.0->ipywidgets>=7.5.1->pandas-profiling) (0.17.3)\n",
      "Requirement already satisfied: pytz>=2017.3 in c:\\users\\spongebob\\appdata\\local\\programs\\python\\python38\\lib\\site-packages (from pandas!=1.0.0,!=1.0.1,!=1.0.2,!=1.1.0,>=0.25.3->pandas-profiling) (2020.5)\n",
      "Requirement already satisfied: wcwidth in c:\\users\\spongebob\\appdata\\local\\programs\\python\\python38\\lib\\site-packages (from prompt-toolkit!=3.0.0,!=3.0.1,<3.1.0,>=2.0.0->ipython>=4.0.0->ipywidgets>=7.5.1->pandas-profiling) (0.2.5)\n",
      "Collecting urllib3<1.27,>=1.21.1\n",
      "  Using cached urllib3-1.26.3-py2.py3-none-any.whl (137 kB)\n",
      "Collecting certifi>=2017.4.17\n",
      "  Using cached certifi-2020.12.5-py2.py3-none-any.whl (147 kB)\n",
      "Collecting idna<3,>=2.5\n",
      "  Using cached idna-2.10-py2.py3-none-any.whl (58 kB)\n",
      "Collecting chardet<5,>=3.0.2\n",
      "  Using cached chardet-4.0.0-py2.py3-none-any.whl (178 kB)\n",
      "Requirement already satisfied: notebook>=4.4.1 in c:\\users\\spongebob\\appdata\\local\\programs\\python\\python38\\lib\\site-packages (from widgetsnbextension~=3.5.0->ipywidgets>=7.5.1->pandas-profiling) (6.2.0)\n",
      "Requirement already satisfied: prometheus-client in c:\\users\\spongebob\\appdata\\local\\programs\\python\\python38\\lib\\site-packages (from notebook>=4.4.1->widgetsnbextension~=3.5.0->ipywidgets>=7.5.1->pandas-profiling) (0.9.0)\n",
      "Requirement already satisfied: terminado>=0.8.3 in c:\\users\\spongebob\\appdata\\local\\programs\\python\\python38\\lib\\site-packages (from notebook>=4.4.1->widgetsnbextension~=3.5.0->ipywidgets>=7.5.1->pandas-profiling) (0.9.2)\n",
      "Requirement already satisfied: argon2-cffi in c:\\users\\spongebob\\appdata\\local\\programs\\python\\python38\\lib\\site-packages (from notebook>=4.4.1->widgetsnbextension~=3.5.0->ipywidgets>=7.5.1->pandas-profiling) (20.1.0)\n",
      "Requirement already satisfied: Send2Trash>=1.5.0 in c:\\users\\spongebob\\appdata\\local\\programs\\python\\python38\\lib\\site-packages (from notebook>=4.4.1->widgetsnbextension~=3.5.0->ipywidgets>=7.5.1->pandas-profiling) (1.5.0)\n",
      "Requirement already satisfied: pyzmq>=17 in c:\\users\\spongebob\\appdata\\local\\programs\\python\\python38\\lib\\site-packages (from notebook>=4.4.1->widgetsnbextension~=3.5.0->ipywidgets>=7.5.1->pandas-profiling) (22.0.2)\n",
      "Requirement already satisfied: nbconvert in c:\\users\\spongebob\\appdata\\local\\programs\\python\\python38\\lib\\site-packages (from notebook>=4.4.1->widgetsnbextension~=3.5.0->ipywidgets>=7.5.1->pandas-profiling) (6.0.7)\n",
      "Requirement already satisfied: pywin32>=1.0 in c:\\users\\spongebob\\appdata\\local\\programs\\python\\python38\\lib\\site-packages (from jupyter-core->nbformat>=4.2.0->ipywidgets>=7.5.1->pandas-profiling) (300)\n",
      "Requirement already satisfied: pywinpty>=0.5 in c:\\users\\spongebob\\appdata\\local\\programs\\python\\python38\\lib\\site-packages (from terminado>=0.8.3->notebook>=4.4.1->widgetsnbextension~=3.5.0->ipywidgets>=7.5.1->pandas-profiling) (0.5.7)\n",
      "Requirement already satisfied: cffi>=1.0.0 in c:\\users\\spongebob\\appdata\\local\\programs\\python\\python38\\lib\\site-packages (from argon2-cffi->notebook>=4.4.1->widgetsnbextension~=3.5.0->ipywidgets>=7.5.1->pandas-profiling) (1.14.4)\n",
      "Requirement already satisfied: pycparser in c:\\users\\spongebob\\appdata\\local\\programs\\python\\python38\\lib\\site-packages (from cffi>=1.0.0->argon2-cffi->notebook>=4.4.1->widgetsnbextension~=3.5.0->ipywidgets>=7.5.1->pandas-profiling) (2.20)\n",
      "Collecting PyWavelets\n",
      "  Downloading PyWavelets-1.1.1-cp38-cp38-win_amd64.whl (4.3 MB)\n",
      "Requirement already satisfied: mistune<2,>=0.8.1 in c:\\users\\spongebob\\appdata\\local\\programs\\python\\python38\\lib\\site-packages (from nbconvert->notebook>=4.4.1->widgetsnbextension~=3.5.0->ipywidgets>=7.5.1->pandas-profiling) (0.8.4)\n",
      "Requirement already satisfied: pandocfilters>=1.4.1 in c:\\users\\spongebob\\appdata\\local\\programs\\python\\python38\\lib\\site-packages (from nbconvert->notebook>=4.4.1->widgetsnbextension~=3.5.0->ipywidgets>=7.5.1->pandas-profiling) (1.4.3)\n",
      "Requirement already satisfied: bleach in c:\\users\\spongebob\\appdata\\local\\programs\\python\\python38\\lib\\site-packages (from nbconvert->notebook>=4.4.1->widgetsnbextension~=3.5.0->ipywidgets>=7.5.1->pandas-profiling) (3.2.3)\n",
      "Requirement already satisfied: entrypoints>=0.2.2 in c:\\users\\spongebob\\appdata\\local\\programs\\python\\python38\\lib\\site-packages (from nbconvert->notebook>=4.4.1->widgetsnbextension~=3.5.0->ipywidgets>=7.5.1->pandas-profiling) (0.3)\n",
      "Requirement already satisfied: defusedxml in c:\\users\\spongebob\\appdata\\local\\programs\\python\\python38\\lib\\site-packages (from nbconvert->notebook>=4.4.1->widgetsnbextension~=3.5.0->ipywidgets>=7.5.1->pandas-profiling) (0.6.0)\n",
      "Requirement already satisfied: testpath in c:\\users\\spongebob\\appdata\\local\\programs\\python\\python38\\lib\\site-packages (from nbconvert->notebook>=4.4.1->widgetsnbextension~=3.5.0->ipywidgets>=7.5.1->pandas-profiling) (0.4.4)\n",
      "Requirement already satisfied: nbclient<0.6.0,>=0.5.0 in c:\\users\\spongebob\\appdata\\local\\programs\\python\\python38\\lib\\site-packages (from nbconvert->notebook>=4.4.1->widgetsnbextension~=3.5.0->ipywidgets>=7.5.1->pandas-profiling) (0.5.1)\n",
      "Requirement already satisfied: jupyterlab-pygments in c:\\users\\spongebob\\appdata\\local\\programs\\python\\python38\\lib\\site-packages (from nbconvert->notebook>=4.4.1->widgetsnbextension~=3.5.0->ipywidgets>=7.5.1->pandas-profiling) (0.1.2)\n",
      "Requirement already satisfied: async-generator in c:\\users\\spongebob\\appdata\\local\\programs\\python\\python38\\lib\\site-packages (from nbclient<0.6.0,>=0.5.0->nbconvert->notebook>=4.4.1->widgetsnbextension~=3.5.0->ipywidgets>=7.5.1->pandas-profiling) (1.10)\n",
      "Requirement already satisfied: nest-asyncio in c:\\users\\spongebob\\appdata\\local\\programs\\python\\python38\\lib\\site-packages (from nbclient<0.6.0,>=0.5.0->nbconvert->notebook>=4.4.1->widgetsnbextension~=3.5.0->ipywidgets>=7.5.1->pandas-profiling) (1.5.1)\n",
      "Requirement already satisfied: webencodings in c:\\users\\spongebob\\appdata\\local\\programs\\python\\python38\\lib\\site-packages (from bleach->nbconvert->notebook>=4.4.1->widgetsnbextension~=3.5.0->ipywidgets>=7.5.1->pandas-profiling) (0.5.1)\n",
      "Requirement already satisfied: packaging in c:\\users\\spongebob\\appdata\\local\\programs\\python\\python38\\lib\\site-packages (from bleach->nbconvert->notebook>=4.4.1->widgetsnbextension~=3.5.0->ipywidgets>=7.5.1->pandas-profiling) (20.9)\n",
      "Using legacy 'setup.py install' for htmlmin, since package 'wheel' is not installed.\n",
      "Using legacy 'setup.py install' for phik, since package 'wheel' is not installed.\n",
      "Installing collected packages: tangled-up-in-unicode, PyWavelets, networkx, visions, urllib3, pyyaml, imagehash, idna, chardet, certifi, tqdm, requests, phik, missingno, htmlmin, confuse, pandas-profiling\n",
      "    Running setup.py install for phik: started\n",
      "    Running setup.py install for phik: finished with status 'done'\n",
      "    Running setup.py install for htmlmin: started\n",
      "    Running setup.py install for htmlmin: finished with status 'done'\n",
      "Successfully installed PyWavelets-1.1.1 certifi-2020.12.5 chardet-4.0.0 confuse-1.4.0 htmlmin-0.1.12 idna-2.10 imagehash-4.2.0 missingno-0.4.2 networkx-2.5 pandas-profiling-2.11.0 phik-0.11.1 pyyaml-5.4.1 requests-2.25.1 tangled-up-in-unicode-0.0.6 tqdm-4.58.0 urllib3-1.26.3 visions-0.6.0\n",
      "Requirement already satisfied: graphviz in c:\\users\\spongebob\\appdata\\local\\programs\\python\\python38\\lib\\site-packages (0.16)\n"
     ]
    },
    {
     "name": "stderr",
     "output_type": "stream",
     "text": [
      "WARNING: You are using pip version 21.0; however, version 21.0.1 is available.\n",
      "You should consider upgrading via the 'c:\\users\\spongebob\\appdata\\local\\programs\\python\\python38\\python.exe -m pip install --upgrade pip' command.\n",
      "WARNING: You are using pip version 21.0; however, version 21.0.1 is available.\n",
      "You should consider upgrading via the 'c:\\users\\spongebob\\appdata\\local\\programs\\python\\python38\\python.exe -m pip install --upgrade pip' command.\n",
      "'conda' is not recognized as an internal or external command,\n",
      "operable program or batch file.\n"
     ]
    }
   ],
   "source": [
    "import sys\n",
    "import numpy as np\n",
    "import pandas as pd\n",
    "import matplotlib.pyplot as plt\n",
    "import seaborn as sns\n",
    "from scipy.io import arff\n",
    "\n",
    "!pip install pandas-profiling\n",
    "!pip install graphviz\n",
    "!conda install graphviz\n",
    "\n",
    "%matplotlib inline"
   ]
  },
  {
   "cell_type": "code",
   "execution_count": 2,
   "metadata": {},
   "outputs": [
    {
     "name": "stdout",
     "output_type": "stream",
     "text": [
      "Creditability                         object\n",
      "Account Balance                       object\n",
      "Duration of Credit (month)           float64\n",
      "Payment Status of Previous Credit     object\n",
      "Purpose                               object\n",
      "Credit Amount                        float64\n",
      "Value Savings/Stocks                  object\n",
      "Length of current employment          object\n",
      "Instalment per cent                  float64\n",
      "Sex & Marital Status                  object\n",
      "Guarantors                            object\n",
      "Duration in Current address           object\n",
      "Most valuable available asset         object\n",
      "Age (years)                          float64\n",
      "Concurrent Credits                    object\n",
      "Type of apartment                     object\n",
      "No of Credits at this Bank           float64\n",
      "Occupation                            object\n",
      "No of dependents                     float64\n",
      "Telephone                             object\n",
      "Foreign Worker                        object\n",
      "dtype: object\n"
     ]
    }
   ],
   "source": [
    "data_file=\"german_credit.arff\"\n",
    "data=arff.loadarff(data_file)\n",
    "\n",
    "\n",
    "credit_df=pd.DataFrame(data[0])\n",
    "for col in credit_df.columns:\n",
    "  if credit_df[col].dtype=='object':\n",
    "    #making sure data is not read as bytes but as string values from a file\n",
    "    credit_df[col] = credit_df[col].str.decode('utf-8')\n",
    "#Look at loaded data and data types\n",
    "print(credit_df.dtypes)"
   ]
  },
  {
   "cell_type": "code",
   "execution_count": 3,
   "metadata": {},
   "outputs": [
    {
     "data": {
      "text/plain": "                                        0       1      2       3       4  \\\nCreditability                           1       1      1       1       1   \nAccount Balance                         1       1      2       1       1   \nDuration of Credit (month)           18.0     9.0   12.0    12.0    12.0   \nPayment Status of Previous Credit       4       4      2       4       4   \nPurpose                                 2       0      9       0       0   \nCredit Amount                      1049.0  2799.0  841.0  2122.0  2171.0   \nValue Savings/Stocks                    1       1      2       1       1   \nLength of current employment            2       3      4       3       3   \nInstalment per cent                   4.0     2.0    2.0     3.0     4.0   \nSex & Marital Status                    2       3      2       3       3   \nGuarantors                              1       1      1       1       1   \nDuration in Current address             4       2      4       2       4   \nMost valuable available asset           2       1      1       1       2   \nAge (years)                          21.0    36.0   23.0    39.0    38.0   \nConcurrent Credits                      3       3      3       3       1   \nType of apartment                       1       1      1       1       2   \nNo of Credits at this Bank            1.0     2.0    1.0     2.0     2.0   \nOccupation                              3       3      2       2       2   \nNo of dependents                      1.0     2.0    1.0     2.0     1.0   \nTelephone                               1       1      1       1       1   \nForeign Worker                          1       1      1       2       2   \n\n                                        5       6       7       8       9  \nCreditability                           1       1       1       1       1  \nAccount Balance                         1       1       1       4       2  \nDuration of Credit (month)           10.0     8.0     6.0    18.0    24.0  \nPayment Status of Previous Credit       4       4       4       4       2  \nPurpose                                 0       0       0       3       3  \nCredit Amount                      2241.0  3398.0  1361.0  1098.0  3758.0  \nValue Savings/Stocks                    1       1       1       1       3  \nLength of current employment            2       4       2       1       1  \nInstalment per cent                   1.0     1.0     2.0     4.0     1.0  \nSex & Marital Status                    3       3       3       2       2  \nGuarantors                              1       1       1       1       1  \nDuration in Current address             3       4       4       4       4  \nMost valuable available asset           1       1       1       3       4  \nAge (years)                          48.0    39.0    40.0    65.0    23.0  \nConcurrent Credits                      3       3       3       3       3  \nType of apartment                       1       2       2       2       1  \nNo of Credits at this Bank            2.0     2.0     1.0     2.0     1.0  \nOccupation                              2       2       2       1       1  \nNo of dependents                      2.0     1.0     2.0     1.0     1.0  \nTelephone                               1       1       1       1       1  \nForeign Worker                          2       2       2       1       1  ",
      "text/html": "<div>\n<style scoped>\n    .dataframe tbody tr th:only-of-type {\n        vertical-align: middle;\n    }\n\n    .dataframe tbody tr th {\n        vertical-align: top;\n    }\n\n    .dataframe thead th {\n        text-align: right;\n    }\n</style>\n<table border=\"1\" class=\"dataframe\">\n  <thead>\n    <tr style=\"text-align: right;\">\n      <th></th>\n      <th>0</th>\n      <th>1</th>\n      <th>2</th>\n      <th>3</th>\n      <th>4</th>\n      <th>5</th>\n      <th>6</th>\n      <th>7</th>\n      <th>8</th>\n      <th>9</th>\n    </tr>\n  </thead>\n  <tbody>\n    <tr>\n      <th>Creditability</th>\n      <td>1</td>\n      <td>1</td>\n      <td>1</td>\n      <td>1</td>\n      <td>1</td>\n      <td>1</td>\n      <td>1</td>\n      <td>1</td>\n      <td>1</td>\n      <td>1</td>\n    </tr>\n    <tr>\n      <th>Account Balance</th>\n      <td>1</td>\n      <td>1</td>\n      <td>2</td>\n      <td>1</td>\n      <td>1</td>\n      <td>1</td>\n      <td>1</td>\n      <td>1</td>\n      <td>4</td>\n      <td>2</td>\n    </tr>\n    <tr>\n      <th>Duration of Credit (month)</th>\n      <td>18.0</td>\n      <td>9.0</td>\n      <td>12.0</td>\n      <td>12.0</td>\n      <td>12.0</td>\n      <td>10.0</td>\n      <td>8.0</td>\n      <td>6.0</td>\n      <td>18.0</td>\n      <td>24.0</td>\n    </tr>\n    <tr>\n      <th>Payment Status of Previous Credit</th>\n      <td>4</td>\n      <td>4</td>\n      <td>2</td>\n      <td>4</td>\n      <td>4</td>\n      <td>4</td>\n      <td>4</td>\n      <td>4</td>\n      <td>4</td>\n      <td>2</td>\n    </tr>\n    <tr>\n      <th>Purpose</th>\n      <td>2</td>\n      <td>0</td>\n      <td>9</td>\n      <td>0</td>\n      <td>0</td>\n      <td>0</td>\n      <td>0</td>\n      <td>0</td>\n      <td>3</td>\n      <td>3</td>\n    </tr>\n    <tr>\n      <th>Credit Amount</th>\n      <td>1049.0</td>\n      <td>2799.0</td>\n      <td>841.0</td>\n      <td>2122.0</td>\n      <td>2171.0</td>\n      <td>2241.0</td>\n      <td>3398.0</td>\n      <td>1361.0</td>\n      <td>1098.0</td>\n      <td>3758.0</td>\n    </tr>\n    <tr>\n      <th>Value Savings/Stocks</th>\n      <td>1</td>\n      <td>1</td>\n      <td>2</td>\n      <td>1</td>\n      <td>1</td>\n      <td>1</td>\n      <td>1</td>\n      <td>1</td>\n      <td>1</td>\n      <td>3</td>\n    </tr>\n    <tr>\n      <th>Length of current employment</th>\n      <td>2</td>\n      <td>3</td>\n      <td>4</td>\n      <td>3</td>\n      <td>3</td>\n      <td>2</td>\n      <td>4</td>\n      <td>2</td>\n      <td>1</td>\n      <td>1</td>\n    </tr>\n    <tr>\n      <th>Instalment per cent</th>\n      <td>4.0</td>\n      <td>2.0</td>\n      <td>2.0</td>\n      <td>3.0</td>\n      <td>4.0</td>\n      <td>1.0</td>\n      <td>1.0</td>\n      <td>2.0</td>\n      <td>4.0</td>\n      <td>1.0</td>\n    </tr>\n    <tr>\n      <th>Sex &amp; Marital Status</th>\n      <td>2</td>\n      <td>3</td>\n      <td>2</td>\n      <td>3</td>\n      <td>3</td>\n      <td>3</td>\n      <td>3</td>\n      <td>3</td>\n      <td>2</td>\n      <td>2</td>\n    </tr>\n    <tr>\n      <th>Guarantors</th>\n      <td>1</td>\n      <td>1</td>\n      <td>1</td>\n      <td>1</td>\n      <td>1</td>\n      <td>1</td>\n      <td>1</td>\n      <td>1</td>\n      <td>1</td>\n      <td>1</td>\n    </tr>\n    <tr>\n      <th>Duration in Current address</th>\n      <td>4</td>\n      <td>2</td>\n      <td>4</td>\n      <td>2</td>\n      <td>4</td>\n      <td>3</td>\n      <td>4</td>\n      <td>4</td>\n      <td>4</td>\n      <td>4</td>\n    </tr>\n    <tr>\n      <th>Most valuable available asset</th>\n      <td>2</td>\n      <td>1</td>\n      <td>1</td>\n      <td>1</td>\n      <td>2</td>\n      <td>1</td>\n      <td>1</td>\n      <td>1</td>\n      <td>3</td>\n      <td>4</td>\n    </tr>\n    <tr>\n      <th>Age (years)</th>\n      <td>21.0</td>\n      <td>36.0</td>\n      <td>23.0</td>\n      <td>39.0</td>\n      <td>38.0</td>\n      <td>48.0</td>\n      <td>39.0</td>\n      <td>40.0</td>\n      <td>65.0</td>\n      <td>23.0</td>\n    </tr>\n    <tr>\n      <th>Concurrent Credits</th>\n      <td>3</td>\n      <td>3</td>\n      <td>3</td>\n      <td>3</td>\n      <td>1</td>\n      <td>3</td>\n      <td>3</td>\n      <td>3</td>\n      <td>3</td>\n      <td>3</td>\n    </tr>\n    <tr>\n      <th>Type of apartment</th>\n      <td>1</td>\n      <td>1</td>\n      <td>1</td>\n      <td>1</td>\n      <td>2</td>\n      <td>1</td>\n      <td>2</td>\n      <td>2</td>\n      <td>2</td>\n      <td>1</td>\n    </tr>\n    <tr>\n      <th>No of Credits at this Bank</th>\n      <td>1.0</td>\n      <td>2.0</td>\n      <td>1.0</td>\n      <td>2.0</td>\n      <td>2.0</td>\n      <td>2.0</td>\n      <td>2.0</td>\n      <td>1.0</td>\n      <td>2.0</td>\n      <td>1.0</td>\n    </tr>\n    <tr>\n      <th>Occupation</th>\n      <td>3</td>\n      <td>3</td>\n      <td>2</td>\n      <td>2</td>\n      <td>2</td>\n      <td>2</td>\n      <td>2</td>\n      <td>2</td>\n      <td>1</td>\n      <td>1</td>\n    </tr>\n    <tr>\n      <th>No of dependents</th>\n      <td>1.0</td>\n      <td>2.0</td>\n      <td>1.0</td>\n      <td>2.0</td>\n      <td>1.0</td>\n      <td>2.0</td>\n      <td>1.0</td>\n      <td>2.0</td>\n      <td>1.0</td>\n      <td>1.0</td>\n    </tr>\n    <tr>\n      <th>Telephone</th>\n      <td>1</td>\n      <td>1</td>\n      <td>1</td>\n      <td>1</td>\n      <td>1</td>\n      <td>1</td>\n      <td>1</td>\n      <td>1</td>\n      <td>1</td>\n      <td>1</td>\n    </tr>\n    <tr>\n      <th>Foreign Worker</th>\n      <td>1</td>\n      <td>1</td>\n      <td>1</td>\n      <td>2</td>\n      <td>2</td>\n      <td>2</td>\n      <td>2</td>\n      <td>2</td>\n      <td>1</td>\n      <td>1</td>\n    </tr>\n  </tbody>\n</table>\n</div>"
     },
     "execution_count": 3,
     "metadata": {},
     "output_type": "execute_result"
    }
   ],
   "source": [
    "np.transpose(credit_df.head(10))"
   ]
  },
  {
   "cell_type": "code",
   "execution_count": 4,
   "metadata": {},
   "outputs": [
    {
     "name": "stderr",
     "output_type": "stream",
     "text": [
      "<ipython-input-4-6e4c413b2938>:9: FutureWarning: Automatic reindexing on DataFrame vs Series comparisons is deprecated and will raise ValueError in a future version.  Do `left, right = left.align(right, axis=1, copy=False)` before e.g. `left == right`\n",
      "  credit_df_out = credit_df[~((credit_df < (credit_q1 - 1.5 * credit_iqr)) |(credit_df > (credit_q3 + 1.5 * credit_iqr))).any(axis=1)]\n",
      "<ipython-input-4-6e4c413b2938>:9: FutureWarning: Automatic reindexing on DataFrame vs Series comparisons is deprecated and will raise ValueError in a future version.  Do `left, right = left.align(right, axis=1, copy=False)` before e.g. `left == right`\n",
      "  credit_df_out = credit_df[~((credit_df < (credit_q1 - 1.5 * credit_iqr)) |(credit_df > (credit_q3 + 1.5 * credit_iqr))).any(axis=1)]\n"
     ]
    },
    {
     "data": {
      "text/plain": "                                       0      2       4       6       9   \\\nCreditability                           1      1       1       1       1   \nAccount Balance                         1      2       1       1       2   \nDuration of Credit (month)           18.0   12.0    12.0     8.0    24.0   \nPayment Status of Previous Credit       4      2       4       4       2   \nPurpose                                 2      9       0       0       3   \nCredit Amount                      1049.0  841.0  2171.0  3398.0  3758.0   \nValue Savings/Stocks                    1      2       1       1       3   \nLength of current employment            2      4       3       4       1   \nInstalment per cent                   4.0    2.0     4.0     1.0     1.0   \nSex & Marital Status                    2      2       3       3       2   \nGuarantors                              1      1       1       1       1   \nDuration in Current address             4      4       4       4       4   \nMost valuable available asset           2      1       2       1       4   \nAge (years)                          21.0   23.0    38.0    39.0    23.0   \nConcurrent Credits                      3      3       1       3       3   \nType of apartment                       1      1       2       2       1   \nNo of Credits at this Bank            1.0    1.0     2.0     2.0     1.0   \nOccupation                              3      2       2       2       1   \nNo of dependents                      1.0    1.0     1.0     1.0     1.0   \nTelephone                               1      1       1       1       1   \nForeign Worker                          1      1       2       2       1   \n\n                                       11      12      14      17      18  \\\nCreditability                           1       1       1       1       1   \nAccount Balance                         1       1       1       2       2   \nDuration of Credit (month)           30.0     6.0    18.0    18.0    36.0   \nPayment Status of Previous Credit       4       4       2       2       4   \nPurpose                                 1       3       3       3       3   \nCredit Amount                      6187.0  1957.0  1936.0  3213.0  2337.0   \nValue Savings/Stocks                    2       1       5       3       1   \nLength of current employment            4       4       4       2       5   \nInstalment per cent                   1.0     1.0     2.0     1.0     4.0   \nSex & Marital Status                    4       2       4       4       3   \nGuarantors                              1       1       1       1       1   \nDuration in Current address             4       4       4       3       4   \nMost valuable available asset           3       3       3       1       1   \nAge (years)                          24.0    31.0    23.0    25.0    36.0   \nConcurrent Credits                      3       3       3       3       3   \nType of apartment                       1       2       1       1       2   \nNo of Credits at this Bank            2.0     1.0     2.0     1.0     1.0   \nOccupation                              3       3       2       3       3   \nNo of dependents                      1.0     1.0     1.0     1.0     1.0   \nTelephone                               1       1       1       1       1   \nForeign Worker                          1       1       1       1       1   \n\n                                       19      22      23      25     26  \\\nCreditability                           1       0       1       1      1   \nAccount Balance                         4       2       2       2      1   \nDuration of Credit (month)           11.0    36.0    12.0    11.0   12.0   \nPayment Status of Previous Credit       4       2       4       3      2   \nPurpose                                 0       5       4       3      2   \nCredit Amount                      7228.0  2384.0  1424.0  4771.0  652.0   \nValue Savings/Stocks                    1       1       1       1      1   \nLength of current employment            3       2       4       4      5   \nInstalment per cent                   1.0     4.0     4.0     2.0    4.0   \nSex & Marital Status                    3       3       3       3      2   \nGuarantors                              1       1       1       1      1   \nDuration in Current address             4       1       3       4      4   \nMost valuable available asset           2       4       2       2      2   \nAge (years)                          39.0    33.0    26.0    51.0   24.0   \nConcurrent Credits                      3       3       3       3      3   \nType of apartment                       2       1       2       2      1   \nNo of Credits at this Bank            2.0     1.0     1.0     1.0    1.0   \nOccupation                              2       2       3       3      3   \nNo of dependents                      1.0     1.0     1.0     1.0    1.0   \nTelephone                               1       1       1       1      1   \nForeign Worker                          1       1       1       1      1   \n\n                                       27      28      29      30      31  \nCreditability                           1       1       1       1       1  \nAccount Balance                         2       4       3       3       4  \nDuration of Credit (month)            9.0    15.0    42.0    30.0    36.0  \nPayment Status of Previous Credit       4       2       4       4       4  \nPurpose                                 3       0       1       3       0  \nCredit Amount                      1154.0  3556.0  4796.0  3017.0  3535.0  \nValue Savings/Stocks                    1       5       1       1       1  \nLength of current employment            5       3       5       5       4  \nInstalment per cent                   2.0     3.0     4.0     4.0     4.0  \nSex & Marital Status                    3       3       3       3       3  \nGuarantors                              1       1       1       1       1  \nDuration in Current address             4       2       4       4       4  \nMost valuable available asset           1       4       4       2       3  \nAge (years)                          37.0    29.0    56.0    47.0    37.0  \nConcurrent Credits                      3       3       3       3       3  \nType of apartment                       2       2       3       2       2  \nNo of Credits at this Bank            3.0     1.0     1.0     1.0     2.0  \nOccupation                              2       3       3       3       3  \nNo of dependents                      1.0     1.0     1.0     1.0     1.0  \nTelephone                               1       1       1       1       2  \nForeign Worker                          1       1       1       1       1  ",
      "text/html": "<div>\n<style scoped>\n    .dataframe tbody tr th:only-of-type {\n        vertical-align: middle;\n    }\n\n    .dataframe tbody tr th {\n        vertical-align: top;\n    }\n\n    .dataframe thead th {\n        text-align: right;\n    }\n</style>\n<table border=\"1\" class=\"dataframe\">\n  <thead>\n    <tr style=\"text-align: right;\">\n      <th></th>\n      <th>0</th>\n      <th>2</th>\n      <th>4</th>\n      <th>6</th>\n      <th>9</th>\n      <th>11</th>\n      <th>12</th>\n      <th>14</th>\n      <th>17</th>\n      <th>18</th>\n      <th>19</th>\n      <th>22</th>\n      <th>23</th>\n      <th>25</th>\n      <th>26</th>\n      <th>27</th>\n      <th>28</th>\n      <th>29</th>\n      <th>30</th>\n      <th>31</th>\n    </tr>\n  </thead>\n  <tbody>\n    <tr>\n      <th>Creditability</th>\n      <td>1</td>\n      <td>1</td>\n      <td>1</td>\n      <td>1</td>\n      <td>1</td>\n      <td>1</td>\n      <td>1</td>\n      <td>1</td>\n      <td>1</td>\n      <td>1</td>\n      <td>1</td>\n      <td>0</td>\n      <td>1</td>\n      <td>1</td>\n      <td>1</td>\n      <td>1</td>\n      <td>1</td>\n      <td>1</td>\n      <td>1</td>\n      <td>1</td>\n    </tr>\n    <tr>\n      <th>Account Balance</th>\n      <td>1</td>\n      <td>2</td>\n      <td>1</td>\n      <td>1</td>\n      <td>2</td>\n      <td>1</td>\n      <td>1</td>\n      <td>1</td>\n      <td>2</td>\n      <td>2</td>\n      <td>4</td>\n      <td>2</td>\n      <td>2</td>\n      <td>2</td>\n      <td>1</td>\n      <td>2</td>\n      <td>4</td>\n      <td>3</td>\n      <td>3</td>\n      <td>4</td>\n    </tr>\n    <tr>\n      <th>Duration of Credit (month)</th>\n      <td>18.0</td>\n      <td>12.0</td>\n      <td>12.0</td>\n      <td>8.0</td>\n      <td>24.0</td>\n      <td>30.0</td>\n      <td>6.0</td>\n      <td>18.0</td>\n      <td>18.0</td>\n      <td>36.0</td>\n      <td>11.0</td>\n      <td>36.0</td>\n      <td>12.0</td>\n      <td>11.0</td>\n      <td>12.0</td>\n      <td>9.0</td>\n      <td>15.0</td>\n      <td>42.0</td>\n      <td>30.0</td>\n      <td>36.0</td>\n    </tr>\n    <tr>\n      <th>Payment Status of Previous Credit</th>\n      <td>4</td>\n      <td>2</td>\n      <td>4</td>\n      <td>4</td>\n      <td>2</td>\n      <td>4</td>\n      <td>4</td>\n      <td>2</td>\n      <td>2</td>\n      <td>4</td>\n      <td>4</td>\n      <td>2</td>\n      <td>4</td>\n      <td>3</td>\n      <td>2</td>\n      <td>4</td>\n      <td>2</td>\n      <td>4</td>\n      <td>4</td>\n      <td>4</td>\n    </tr>\n    <tr>\n      <th>Purpose</th>\n      <td>2</td>\n      <td>9</td>\n      <td>0</td>\n      <td>0</td>\n      <td>3</td>\n      <td>1</td>\n      <td>3</td>\n      <td>3</td>\n      <td>3</td>\n      <td>3</td>\n      <td>0</td>\n      <td>5</td>\n      <td>4</td>\n      <td>3</td>\n      <td>2</td>\n      <td>3</td>\n      <td>0</td>\n      <td>1</td>\n      <td>3</td>\n      <td>0</td>\n    </tr>\n    <tr>\n      <th>Credit Amount</th>\n      <td>1049.0</td>\n      <td>841.0</td>\n      <td>2171.0</td>\n      <td>3398.0</td>\n      <td>3758.0</td>\n      <td>6187.0</td>\n      <td>1957.0</td>\n      <td>1936.0</td>\n      <td>3213.0</td>\n      <td>2337.0</td>\n      <td>7228.0</td>\n      <td>2384.0</td>\n      <td>1424.0</td>\n      <td>4771.0</td>\n      <td>652.0</td>\n      <td>1154.0</td>\n      <td>3556.0</td>\n      <td>4796.0</td>\n      <td>3017.0</td>\n      <td>3535.0</td>\n    </tr>\n    <tr>\n      <th>Value Savings/Stocks</th>\n      <td>1</td>\n      <td>2</td>\n      <td>1</td>\n      <td>1</td>\n      <td>3</td>\n      <td>2</td>\n      <td>1</td>\n      <td>5</td>\n      <td>3</td>\n      <td>1</td>\n      <td>1</td>\n      <td>1</td>\n      <td>1</td>\n      <td>1</td>\n      <td>1</td>\n      <td>1</td>\n      <td>5</td>\n      <td>1</td>\n      <td>1</td>\n      <td>1</td>\n    </tr>\n    <tr>\n      <th>Length of current employment</th>\n      <td>2</td>\n      <td>4</td>\n      <td>3</td>\n      <td>4</td>\n      <td>1</td>\n      <td>4</td>\n      <td>4</td>\n      <td>4</td>\n      <td>2</td>\n      <td>5</td>\n      <td>3</td>\n      <td>2</td>\n      <td>4</td>\n      <td>4</td>\n      <td>5</td>\n      <td>5</td>\n      <td>3</td>\n      <td>5</td>\n      <td>5</td>\n      <td>4</td>\n    </tr>\n    <tr>\n      <th>Instalment per cent</th>\n      <td>4.0</td>\n      <td>2.0</td>\n      <td>4.0</td>\n      <td>1.0</td>\n      <td>1.0</td>\n      <td>1.0</td>\n      <td>1.0</td>\n      <td>2.0</td>\n      <td>1.0</td>\n      <td>4.0</td>\n      <td>1.0</td>\n      <td>4.0</td>\n      <td>4.0</td>\n      <td>2.0</td>\n      <td>4.0</td>\n      <td>2.0</td>\n      <td>3.0</td>\n      <td>4.0</td>\n      <td>4.0</td>\n      <td>4.0</td>\n    </tr>\n    <tr>\n      <th>Sex &amp; Marital Status</th>\n      <td>2</td>\n      <td>2</td>\n      <td>3</td>\n      <td>3</td>\n      <td>2</td>\n      <td>4</td>\n      <td>2</td>\n      <td>4</td>\n      <td>4</td>\n      <td>3</td>\n      <td>3</td>\n      <td>3</td>\n      <td>3</td>\n      <td>3</td>\n      <td>2</td>\n      <td>3</td>\n      <td>3</td>\n      <td>3</td>\n      <td>3</td>\n      <td>3</td>\n    </tr>\n    <tr>\n      <th>Guarantors</th>\n      <td>1</td>\n      <td>1</td>\n      <td>1</td>\n      <td>1</td>\n      <td>1</td>\n      <td>1</td>\n      <td>1</td>\n      <td>1</td>\n      <td>1</td>\n      <td>1</td>\n      <td>1</td>\n      <td>1</td>\n      <td>1</td>\n      <td>1</td>\n      <td>1</td>\n      <td>1</td>\n      <td>1</td>\n      <td>1</td>\n      <td>1</td>\n      <td>1</td>\n    </tr>\n    <tr>\n      <th>Duration in Current address</th>\n      <td>4</td>\n      <td>4</td>\n      <td>4</td>\n      <td>4</td>\n      <td>4</td>\n      <td>4</td>\n      <td>4</td>\n      <td>4</td>\n      <td>3</td>\n      <td>4</td>\n      <td>4</td>\n      <td>1</td>\n      <td>3</td>\n      <td>4</td>\n      <td>4</td>\n      <td>4</td>\n      <td>2</td>\n      <td>4</td>\n      <td>4</td>\n      <td>4</td>\n    </tr>\n    <tr>\n      <th>Most valuable available asset</th>\n      <td>2</td>\n      <td>1</td>\n      <td>2</td>\n      <td>1</td>\n      <td>4</td>\n      <td>3</td>\n      <td>3</td>\n      <td>3</td>\n      <td>1</td>\n      <td>1</td>\n      <td>2</td>\n      <td>4</td>\n      <td>2</td>\n      <td>2</td>\n      <td>2</td>\n      <td>1</td>\n      <td>4</td>\n      <td>4</td>\n      <td>2</td>\n      <td>3</td>\n    </tr>\n    <tr>\n      <th>Age (years)</th>\n      <td>21.0</td>\n      <td>23.0</td>\n      <td>38.0</td>\n      <td>39.0</td>\n      <td>23.0</td>\n      <td>24.0</td>\n      <td>31.0</td>\n      <td>23.0</td>\n      <td>25.0</td>\n      <td>36.0</td>\n      <td>39.0</td>\n      <td>33.0</td>\n      <td>26.0</td>\n      <td>51.0</td>\n      <td>24.0</td>\n      <td>37.0</td>\n      <td>29.0</td>\n      <td>56.0</td>\n      <td>47.0</td>\n      <td>37.0</td>\n    </tr>\n    <tr>\n      <th>Concurrent Credits</th>\n      <td>3</td>\n      <td>3</td>\n      <td>1</td>\n      <td>3</td>\n      <td>3</td>\n      <td>3</td>\n      <td>3</td>\n      <td>3</td>\n      <td>3</td>\n      <td>3</td>\n      <td>3</td>\n      <td>3</td>\n      <td>3</td>\n      <td>3</td>\n      <td>3</td>\n      <td>3</td>\n      <td>3</td>\n      <td>3</td>\n      <td>3</td>\n      <td>3</td>\n    </tr>\n    <tr>\n      <th>Type of apartment</th>\n      <td>1</td>\n      <td>1</td>\n      <td>2</td>\n      <td>2</td>\n      <td>1</td>\n      <td>1</td>\n      <td>2</td>\n      <td>1</td>\n      <td>1</td>\n      <td>2</td>\n      <td>2</td>\n      <td>1</td>\n      <td>2</td>\n      <td>2</td>\n      <td>1</td>\n      <td>2</td>\n      <td>2</td>\n      <td>3</td>\n      <td>2</td>\n      <td>2</td>\n    </tr>\n    <tr>\n      <th>No of Credits at this Bank</th>\n      <td>1.0</td>\n      <td>1.0</td>\n      <td>2.0</td>\n      <td>2.0</td>\n      <td>1.0</td>\n      <td>2.0</td>\n      <td>1.0</td>\n      <td>2.0</td>\n      <td>1.0</td>\n      <td>1.0</td>\n      <td>2.0</td>\n      <td>1.0</td>\n      <td>1.0</td>\n      <td>1.0</td>\n      <td>1.0</td>\n      <td>3.0</td>\n      <td>1.0</td>\n      <td>1.0</td>\n      <td>1.0</td>\n      <td>2.0</td>\n    </tr>\n    <tr>\n      <th>Occupation</th>\n      <td>3</td>\n      <td>2</td>\n      <td>2</td>\n      <td>2</td>\n      <td>1</td>\n      <td>3</td>\n      <td>3</td>\n      <td>2</td>\n      <td>3</td>\n      <td>3</td>\n      <td>2</td>\n      <td>2</td>\n      <td>3</td>\n      <td>3</td>\n      <td>3</td>\n      <td>2</td>\n      <td>3</td>\n      <td>3</td>\n      <td>3</td>\n      <td>3</td>\n    </tr>\n    <tr>\n      <th>No of dependents</th>\n      <td>1.0</td>\n      <td>1.0</td>\n      <td>1.0</td>\n      <td>1.0</td>\n      <td>1.0</td>\n      <td>1.0</td>\n      <td>1.0</td>\n      <td>1.0</td>\n      <td>1.0</td>\n      <td>1.0</td>\n      <td>1.0</td>\n      <td>1.0</td>\n      <td>1.0</td>\n      <td>1.0</td>\n      <td>1.0</td>\n      <td>1.0</td>\n      <td>1.0</td>\n      <td>1.0</td>\n      <td>1.0</td>\n      <td>1.0</td>\n    </tr>\n    <tr>\n      <th>Telephone</th>\n      <td>1</td>\n      <td>1</td>\n      <td>1</td>\n      <td>1</td>\n      <td>1</td>\n      <td>1</td>\n      <td>1</td>\n      <td>1</td>\n      <td>1</td>\n      <td>1</td>\n      <td>1</td>\n      <td>1</td>\n      <td>1</td>\n      <td>1</td>\n      <td>1</td>\n      <td>1</td>\n      <td>1</td>\n      <td>1</td>\n      <td>1</td>\n      <td>2</td>\n    </tr>\n    <tr>\n      <th>Foreign Worker</th>\n      <td>1</td>\n      <td>1</td>\n      <td>2</td>\n      <td>2</td>\n      <td>1</td>\n      <td>1</td>\n      <td>1</td>\n      <td>1</td>\n      <td>1</td>\n      <td>1</td>\n      <td>1</td>\n      <td>1</td>\n      <td>1</td>\n      <td>1</td>\n      <td>1</td>\n      <td>1</td>\n      <td>1</td>\n      <td>1</td>\n      <td>1</td>\n      <td>1</td>\n    </tr>\n  </tbody>\n</table>\n</div>"
     },
     "execution_count": 4,
     "metadata": {},
     "output_type": "execute_result"
    }
   ],
   "source": [
    "#Remove Outliers\n",
    "\n",
    "credit_q3 = credit_df.quantile(.75)\n",
    "credit_q1 = credit_df.quantile(.25)\n",
    "credit_iqr = credit_q3 - credit_q1\n",
    "#print(credit_q3)\n",
    "#print(credit_df < (credit_q1 - 1.5 * credit_iqr)) |(credit_df > (credit_q3 + 1.5 * credit_iqr))\n",
    "\n",
    "credit_df_out = credit_df[~((credit_df < (credit_q1 - 1.5 * credit_iqr)) |(credit_df > (credit_q3 + 1.5 * credit_iqr))).any(axis=1)]\n",
    "np.transpose(credit_df_out.head(20))"
   ]
  },
  {
   "cell_type": "code",
   "execution_count": 5,
   "metadata": {},
   "outputs": [
    {
     "name": "stdout",
     "output_type": "stream",
     "text": [
      "<class 'pandas.core.frame.DataFrame'>\n",
      "Int64Index: 728 entries, 0 to 999\n",
      "Data columns (total 21 columns):\n",
      " #   Column                             Non-Null Count  Dtype  \n",
      "---  ------                             --------------  -----  \n",
      " 0   Creditability                      728 non-null    object \n",
      " 1   Account Balance                    728 non-null    object \n",
      " 2   Duration of Credit (month)         728 non-null    float64\n",
      " 3   Payment Status of Previous Credit  728 non-null    object \n",
      " 4   Purpose                            728 non-null    object \n",
      " 5   Credit Amount                      728 non-null    float64\n",
      " 6   Value Savings/Stocks               728 non-null    object \n",
      " 7   Length of current employment       728 non-null    object \n",
      " 8   Instalment per cent                728 non-null    float64\n",
      " 9   Sex & Marital Status               728 non-null    object \n",
      " 10  Guarantors                         728 non-null    object \n",
      " 11  Duration in Current address        728 non-null    object \n",
      " 12  Most valuable available asset      728 non-null    object \n",
      " 13  Age (years)                        728 non-null    float64\n",
      " 14  Concurrent Credits                 728 non-null    object \n",
      " 15  Type of apartment                  728 non-null    object \n",
      " 16  No of Credits at this Bank         728 non-null    float64\n",
      " 17  Occupation                         728 non-null    object \n",
      " 18  No of dependents                   728 non-null    float64\n",
      " 19  Telephone                          728 non-null    object \n",
      " 20  Foreign Worker                     728 non-null    object \n",
      "dtypes: float64(6), object(15)\n",
      "memory usage: 125.1+ KB\n"
     ]
    }
   ],
   "source": [
    "credit_df_out.info()"
   ]
  },
  {
   "cell_type": "code",
   "execution_count": 6,
   "metadata": {},
   "outputs": [
    {
     "data": {
      "text/plain": "Creditability                        0\nAccount Balance                      0\nDuration of Credit (month)           0\nPayment Status of Previous Credit    0\nPurpose                              0\nCredit Amount                        0\nValue Savings/Stocks                 0\nLength of current employment         0\nInstalment per cent                  0\nSex & Marital Status                 0\nGuarantors                           0\nDuration in Current address          0\nMost valuable available asset        0\nAge (years)                          0\nConcurrent Credits                   0\nType of apartment                    0\nNo of Credits at this Bank           0\nOccupation                           0\nNo of dependents                     0\nTelephone                            0\nForeign Worker                       0\ndtype: int64"
     },
     "execution_count": 6,
     "metadata": {},
     "output_type": "execute_result"
    }
   ],
   "source": [
    "credit_df_out.isnull().sum()"
   ]
  },
  {
   "cell_type": "code",
   "execution_count": 7,
   "metadata": {},
   "outputs": [
    {
     "data": {
      "text/plain": "                            count         mean          std    min     25%  \\\nDuration of Credit (month)  728.0    18.383242     8.603291    6.0    12.0   \nCredit Amount               728.0  2504.931319  1639.233248  250.0  1295.0   \nInstalment per cent         728.0     3.059066     1.092969    1.0     2.0   \nAge (years)                 728.0    34.005495    10.480609   19.0    26.0   \nNo of Credits at this Bank  728.0     1.365385     0.522937    1.0     1.0   \nNo of dependents            728.0     1.000000     0.000000    1.0     1.0   \n\n                               50%      75%     max  \nDuration of Credit (month)    18.0    24.00    42.0  \nCredit Amount               2045.0  3251.75  7865.0  \nInstalment per cent            4.0     4.00     4.0  \nAge (years)                   31.0    39.00    64.0  \nNo of Credits at this Bank     1.0     2.00     3.0  \nNo of dependents               1.0     1.00     1.0  ",
      "text/html": "<div>\n<style scoped>\n    .dataframe tbody tr th:only-of-type {\n        vertical-align: middle;\n    }\n\n    .dataframe tbody tr th {\n        vertical-align: top;\n    }\n\n    .dataframe thead th {\n        text-align: right;\n    }\n</style>\n<table border=\"1\" class=\"dataframe\">\n  <thead>\n    <tr style=\"text-align: right;\">\n      <th></th>\n      <th>count</th>\n      <th>mean</th>\n      <th>std</th>\n      <th>min</th>\n      <th>25%</th>\n      <th>50%</th>\n      <th>75%</th>\n      <th>max</th>\n    </tr>\n  </thead>\n  <tbody>\n    <tr>\n      <th>Duration of Credit (month)</th>\n      <td>728.0</td>\n      <td>18.383242</td>\n      <td>8.603291</td>\n      <td>6.0</td>\n      <td>12.0</td>\n      <td>18.0</td>\n      <td>24.00</td>\n      <td>42.0</td>\n    </tr>\n    <tr>\n      <th>Credit Amount</th>\n      <td>728.0</td>\n      <td>2504.931319</td>\n      <td>1639.233248</td>\n      <td>250.0</td>\n      <td>1295.0</td>\n      <td>2045.0</td>\n      <td>3251.75</td>\n      <td>7865.0</td>\n    </tr>\n    <tr>\n      <th>Instalment per cent</th>\n      <td>728.0</td>\n      <td>3.059066</td>\n      <td>1.092969</td>\n      <td>1.0</td>\n      <td>2.0</td>\n      <td>4.0</td>\n      <td>4.00</td>\n      <td>4.0</td>\n    </tr>\n    <tr>\n      <th>Age (years)</th>\n      <td>728.0</td>\n      <td>34.005495</td>\n      <td>10.480609</td>\n      <td>19.0</td>\n      <td>26.0</td>\n      <td>31.0</td>\n      <td>39.00</td>\n      <td>64.0</td>\n    </tr>\n    <tr>\n      <th>No of Credits at this Bank</th>\n      <td>728.0</td>\n      <td>1.365385</td>\n      <td>0.522937</td>\n      <td>1.0</td>\n      <td>1.0</td>\n      <td>1.0</td>\n      <td>2.00</td>\n      <td>3.0</td>\n    </tr>\n    <tr>\n      <th>No of dependents</th>\n      <td>728.0</td>\n      <td>1.000000</td>\n      <td>0.000000</td>\n      <td>1.0</td>\n      <td>1.0</td>\n      <td>1.0</td>\n      <td>1.00</td>\n      <td>1.0</td>\n    </tr>\n  </tbody>\n</table>\n</div>"
     },
     "execution_count": 7,
     "metadata": {},
     "output_type": "execute_result"
    }
   ],
   "source": [
    "np.transpose(credit_df_out.describe())"
   ]
  },
  {
   "cell_type": "code",
   "execution_count": 8,
   "metadata": {},
   "outputs": [
    {
     "name": "stderr",
     "output_type": "stream",
     "text": [
      "c:\\users\\spongebob\\appdata\\local\\programs\\python\\python38\\lib\\site-packages\\seaborn\\distributions.py:2557: FutureWarning: `distplot` is a deprecated function and will be removed in a future version. Please adapt your code to use either `displot` (a figure-level function with similar flexibility) or `histplot` (an axes-level function for histograms).\n",
      "  warnings.warn(msg, FutureWarning)\n",
      "c:\\users\\spongebob\\appdata\\local\\programs\\python\\python38\\lib\\site-packages\\seaborn\\distributions.py:306: UserWarning: Dataset has 0 variance; skipping density estimate.\n",
      "  warnings.warn(msg, UserWarning)\n"
     ]
    },
    {
     "data": {
      "text/plain": "<AxesSubplot:xlabel='No of dependents', ylabel='Density'>"
     },
     "execution_count": 8,
     "metadata": {},
     "output_type": "execute_result"
    },
    {
     "data": {
      "text/plain": "<Figure size 432x288 with 1 Axes>",
      "image/png": "[encoded data removed]"
     },
     "metadata": {
      "needs_background": "light"
     },
     "output_type": "display_data"
    }
   ],
   "source": [
    "sns.distplot(credit_df_out['No of dependents'])"
   ]
  },
  {
   "cell_type": "code",
   "execution_count": 9,
   "metadata": {},
   "outputs": [
    {
     "name": "stderr",
     "output_type": "stream",
     "text": [
      "c:\\users\\spongebob\\appdata\\local\\programs\\python\\python38\\lib\\site-packages\\seaborn\\distributions.py:2557: FutureWarning: `distplot` is a deprecated function and will be removed in a future version. Please adapt your code to use either `displot` (a figure-level function with similar flexibility) or `histplot` (an axes-level function for histograms).\n",
      "  warnings.warn(msg, FutureWarning)\n"
     ]
    },
    {
     "data": {
      "text/plain": "<AxesSubplot:xlabel='Credit Amount', ylabel='Density'>"
     },
     "execution_count": 9,
     "metadata": {},
     "output_type": "execute_result"
    },
    {
     "data": {
      "text/plain": "<Figure size 432x288 with 1 Axes>",
      "image/png": "[encoded data removed]"
     },
     "metadata": {
      "needs_background": "light"
     },
     "output_type": "display_data"
    }
   ],
   "source": [
    "sns.distplot(credit_df_out['Credit Amount'])"
   ]
  },
  {
   "cell_type": "code",
   "execution_count": 10,
   "metadata": {},
   "outputs": [
    {
     "name": "stderr",
     "output_type": "stream",
     "text": [
      "c:\\users\\spongebob\\appdata\\local\\programs\\python\\python38\\lib\\site-packages\\seaborn\\distributions.py:2557: FutureWarning: `distplot` is a deprecated function and will be removed in a future version. Please adapt your code to use either `displot` (a figure-level function with similar flexibility) or `histplot` (an axes-level function for histograms).\n",
      "  warnings.warn(msg, FutureWarning)\n"
     ]
    },
    {
     "data": {
      "text/plain": "<AxesSubplot:xlabel='No of Credits at this Bank', ylabel='Density'>"
     },
     "execution_count": 10,
     "metadata": {},
     "output_type": "execute_result"
    },
    {
     "data": {
      "text/plain": "<Figure size 432x288 with 1 Axes>",
      "image/png": "[encoded data removed]"
     },
     "metadata": {
      "needs_background": "light"
     },
     "output_type": "display_data"
    }
   ],
   "source": [
    "sns.distplot(credit_df_out['No of Credits at this Bank'])"
   ]
  },
  {
   "cell_type": "code",
   "execution_count": 11,
   "metadata": {},
   "outputs": [
    {
     "name": "stderr",
     "output_type": "stream",
     "text": [
      "c:\\users\\spongebob\\appdata\\local\\programs\\python\\python38\\lib\\site-packages\\seaborn\\distributions.py:2557: FutureWarning: `distplot` is a deprecated function and will be removed in a future version. Please adapt your code to use either `displot` (a figure-level function with similar flexibility) or `histplot` (an axes-level function for histograms).\n",
      "  warnings.warn(msg, FutureWarning)\n"
     ]
    },
    {
     "data": {
      "text/plain": "<AxesSubplot:xlabel='Age (years)', ylabel='Density'>"
     },
     "execution_count": 11,
     "metadata": {},
     "output_type": "execute_result"
    },
    {
     "data": {
      "text/plain": "<Figure size 432x288 with 1 Axes>",
      "image/png": "[encoded data removed]"
     },
     "metadata": {
      "needs_background": "light"
     },
     "output_type": "display_data"
    }
   ],
   "source": [
    "sns.distplot(credit_df_out['Age (years)'])"
   ]
  },
  {
   "cell_type": "code",
   "execution_count": 12,
   "metadata": {},
   "outputs": [
    {
     "name": "stderr",
     "output_type": "stream",
     "text": [
      "c:\\users\\spongebob\\appdata\\local\\programs\\python\\python38\\lib\\site-packages\\seaborn\\_decorators.py:36: FutureWarning: Pass the following variable as a keyword arg: x. From version 0.12, the only valid positional argument will be `data`, and passing other arguments without an explicit keyword will result in an error or misinterpretation.\n",
      "  warnings.warn(\n"
     ]
    },
    {
     "data": {
      "text/plain": "<AxesSubplot:xlabel='Duration of Credit (month)'>"
     },
     "execution_count": 12,
     "metadata": {},
     "output_type": "execute_result"
    },
    {
     "data": {
      "text/plain": "<Figure size 432x288 with 1 Axes>",
      "image/png": "[encoded data removed]"
     },
     "metadata": {
      "needs_background": "light"
     },
     "output_type": "display_data"
    }
   ],
   "source": [
    "sns.boxplot(credit_df_out['Duration of Credit (month)'])"
   ]
  },
  {
   "cell_type": "code",
   "execution_count": 13,
   "metadata": {},
   "outputs": [
    {
     "name": "stderr",
     "output_type": "stream",
     "text": [
      "c:\\users\\spongebob\\appdata\\local\\programs\\python\\python38\\lib\\site-packages\\seaborn\\_decorators.py:36: FutureWarning: Pass the following variable as a keyword arg: x. From version 0.12, the only valid positional argument will be `data`, and passing other arguments without an explicit keyword will result in an error or misinterpretation.\n",
      "  warnings.warn(\n"
     ]
    },
    {
     "data": {
      "text/plain": "<AxesSubplot:xlabel='Credit Amount'>"
     },
     "execution_count": 13,
     "metadata": {},
     "output_type": "execute_result"
    },
    {
     "data": {
      "text/plain": "<Figure size 432x288 with 1 Axes>",
      "image/png": "[encoded data removed]"
     },
     "metadata": {
      "needs_background": "light"
     },
     "output_type": "display_data"
    }
   ],
   "source": [
    "sns.boxplot(credit_df_out['Credit Amount'])"
   ]
  },
  {
   "cell_type": "code",
   "execution_count": 14,
   "metadata": {},
   "outputs": [
    {
     "name": "stderr",
     "output_type": "stream",
     "text": [
      "c:\\users\\spongebob\\appdata\\local\\programs\\python\\python38\\lib\\site-packages\\seaborn\\_decorators.py:36: FutureWarning: Pass the following variable as a keyword arg: x. From version 0.12, the only valid positional argument will be `data`, and passing other arguments without an explicit keyword will result in an error or misinterpretation.\n",
      "  warnings.warn(\n"
     ]
    },
    {
     "data": {
      "text/plain": "<AxesSubplot:xlabel='No of Credits at this Bank'>"
     },
     "execution_count": 14,
     "metadata": {},
     "output_type": "execute_result"
    },
    {
     "data": {
      "text/plain": "<Figure size 432x288 with 1 Axes>",
      "image/png": "[encoded data removed]"
     },
     "metadata": {
      "needs_background": "light"
     },
     "output_type": "display_data"
    }
   ],
   "source": [
    "sns.boxplot(credit_df_out['No of Credits at this Bank'])"
   ]
  },
  {
   "cell_type": "code",
   "execution_count": 15,
   "metadata": {},
   "outputs": [
    {
     "name": "stderr",
     "output_type": "stream",
     "text": [
      "c:\\users\\spongebob\\appdata\\local\\programs\\python\\python38\\lib\\site-packages\\seaborn\\_decorators.py:36: FutureWarning: Pass the following variable as a keyword arg: x. From version 0.12, the only valid positional argument will be `data`, and passing other arguments without an explicit keyword will result in an error or misinterpretation.\n",
      "  warnings.warn(\n"
     ]
    },
    {
     "data": {
      "text/plain": "<AxesSubplot:xlabel='Age (years)'>"
     },
     "execution_count": 15,
     "metadata": {},
     "output_type": "execute_result"
    },
    {
     "data": {
      "text/plain": "<Figure size 432x288 with 1 Axes>",
      "image/png": "[encoded data removed]"
     },
     "metadata": {
      "needs_background": "light"
     },
     "output_type": "display_data"
    }
   ],
   "source": [
    "sns.boxplot(credit_df_out['Age (years)'])"
   ]
  },
  {
   "cell_type": "code",
   "execution_count": 16,
   "metadata": {},
   "outputs": [],
   "source": [
    "from sklearn.model_selection import train_test_split\n",
    "\n",
    "class_col_name='Creditability' \n",
    "feature_names=credit_df_out.columns[credit_df_out.columns != class_col_name ]\n",
    "\n",
    "X_train, X_test, y_train, y_test = train_test_split(credit_df_out.loc[:, feature_names], credit_df_out[class_col_name], test_size=0.3,random_state=1) "
   ]
  },
  {
   "cell_type": "code",
   "execution_count": 17,
   "metadata": {},
   "outputs": [
    {
     "name": "stdout",
     "output_type": "stream",
     "text": [
      "Successfuly trained the decision tree...\n"
     ]
    }
   ],
   "source": [
    "from sklearn import tree\n",
    "clf = tree.DecisionTreeClassifier(max_depth=5)\n",
    "clf = clf.fit(X_train, y_train)\n",
    "print(\"Successfuly trained the decision tree...\")"
   ]
  },
  {
   "cell_type": "code",
   "execution_count": 48,
   "metadata": {},
   "outputs": [
    {
     "name": "stdout",
     "output_type": "stream",
     "text": [
      "class Names Index(['Account Balance', 'Duration of Credit (month)',\n",
      "       'Payment Status of Previous Credit', 'Purpose', 'Credit Amount',\n",
      "       'Value Savings/Stocks', 'Length of current employment',\n",
      "       'Instalment per cent', 'Sex & Marital Status', 'Guarantors',\n",
      "       'Duration in Current address', 'Most valuable available asset',\n",
      "       'Age (years)', 'Concurrent Credits', 'Type of apartment',\n",
      "       'No of Credits at this Bank', 'Occupation', 'No of dependents',\n",
      "       'Telephone', 'Foreign Worker'],\n",
      "      dtype='object')\n"
     ]
    },
    {
     "ename": "ValueError",
     "evalue": "Length of feature_names, 20 does not match number of features, 64",
     "output_type": "error",
     "traceback": [
      "\u001B[1;31m---------------------------------------------------------------------------\u001B[0m",
      "\u001B[1;31mValueError\u001B[0m                                Traceback (most recent call last)",
      "\u001B[1;32m<ipython-input-48-c989fd620d9d>\u001B[0m in \u001B[0;36m<module>\u001B[1;34m\u001B[0m\n\u001B[0;32m      6\u001B[0m \u001B[1;33m\u001B[0m\u001B[0m\n\u001B[0;32m      7\u001B[0m \u001B[1;33m\u001B[0m\u001B[0m\n\u001B[1;32m----> 8\u001B[1;33m dot_data = tree.export_graphviz(clf, out_file=None, \n\u001B[0m\u001B[0;32m      9\u001B[0m                                 \u001B[0mfeature_names\u001B[0m\u001B[1;33m=\u001B[0m\u001B[0mfeature_names\u001B[0m\u001B[1;33m,\u001B[0m\u001B[1;33m\u001B[0m\u001B[1;33m\u001B[0m\u001B[0m\n\u001B[0;32m     10\u001B[0m                                 \u001B[0mclass_names\u001B[0m\u001B[1;33m=\u001B[0m\u001B[0mclass_values\u001B[0m\u001B[1;33m,\u001B[0m\u001B[1;33m\u001B[0m\u001B[1;33m\u001B[0m\u001B[0m\n",
      "\u001B[1;32mc:\\users\\spongebob\\appdata\\local\\programs\\python\\python38\\lib\\site-packages\\sklearn\\utils\\validation.py\u001B[0m in \u001B[0;36minner_f\u001B[1;34m(*args, **kwargs)\u001B[0m\n\u001B[0;32m     61\u001B[0m             \u001B[0mextra_args\u001B[0m \u001B[1;33m=\u001B[0m \u001B[0mlen\u001B[0m\u001B[1;33m(\u001B[0m\u001B[0margs\u001B[0m\u001B[1;33m)\u001B[0m \u001B[1;33m-\u001B[0m \u001B[0mlen\u001B[0m\u001B[1;33m(\u001B[0m\u001B[0mall_args\u001B[0m\u001B[1;33m)\u001B[0m\u001B[1;33m\u001B[0m\u001B[1;33m\u001B[0m\u001B[0m\n\u001B[0;32m     62\u001B[0m             \u001B[1;32mif\u001B[0m \u001B[0mextra_args\u001B[0m \u001B[1;33m<=\u001B[0m \u001B[1;36m0\u001B[0m\u001B[1;33m:\u001B[0m\u001B[1;33m\u001B[0m\u001B[1;33m\u001B[0m\u001B[0m\n\u001B[1;32m---> 63\u001B[1;33m                 \u001B[1;32mreturn\u001B[0m \u001B[0mf\u001B[0m\u001B[1;33m(\u001B[0m\u001B[1;33m*\u001B[0m\u001B[0margs\u001B[0m\u001B[1;33m,\u001B[0m \u001B[1;33m**\u001B[0m\u001B[0mkwargs\u001B[0m\u001B[1;33m)\u001B[0m\u001B[1;33m\u001B[0m\u001B[1;33m\u001B[0m\u001B[0m\n\u001B[0m\u001B[0;32m     64\u001B[0m \u001B[1;33m\u001B[0m\u001B[0m\n\u001B[0;32m     65\u001B[0m             \u001B[1;31m# extra_args > 0\u001B[0m\u001B[1;33m\u001B[0m\u001B[1;33m\u001B[0m\u001B[1;33m\u001B[0m\u001B[0m\n",
      "\u001B[1;32mc:\\users\\spongebob\\appdata\\local\\programs\\python\\python38\\lib\\site-packages\\sklearn\\tree\\_export.py\u001B[0m in \u001B[0;36mexport_graphviz\u001B[1;34m(decision_tree, out_file, max_depth, feature_names, class_names, label, filled, leaves_parallel, impurity, node_ids, proportion, rotate, rounded, special_characters, precision)\u001B[0m\n\u001B[0;32m    786\u001B[0m             \u001B[0mrounded\u001B[0m\u001B[1;33m=\u001B[0m\u001B[0mrounded\u001B[0m\u001B[1;33m,\u001B[0m \u001B[0mspecial_characters\u001B[0m\u001B[1;33m=\u001B[0m\u001B[0mspecial_characters\u001B[0m\u001B[1;33m,\u001B[0m\u001B[1;33m\u001B[0m\u001B[1;33m\u001B[0m\u001B[0m\n\u001B[0;32m    787\u001B[0m             precision=precision)\n\u001B[1;32m--> 788\u001B[1;33m         \u001B[0mexporter\u001B[0m\u001B[1;33m.\u001B[0m\u001B[0mexport\u001B[0m\u001B[1;33m(\u001B[0m\u001B[0mdecision_tree\u001B[0m\u001B[1;33m)\u001B[0m\u001B[1;33m\u001B[0m\u001B[1;33m\u001B[0m\u001B[0m\n\u001B[0m\u001B[0;32m    789\u001B[0m \u001B[1;33m\u001B[0m\u001B[0m\n\u001B[0;32m    790\u001B[0m         \u001B[1;32mif\u001B[0m \u001B[0mreturn_string\u001B[0m\u001B[1;33m:\u001B[0m\u001B[1;33m\u001B[0m\u001B[1;33m\u001B[0m\u001B[0m\n",
      "\u001B[1;32mc:\\users\\spongebob\\appdata\\local\\programs\\python\\python38\\lib\\site-packages\\sklearn\\tree\\_export.py\u001B[0m in \u001B[0;36mexport\u001B[1;34m(self, decision_tree)\u001B[0m\n\u001B[0;32m    412\u001B[0m         \u001B[1;32mif\u001B[0m \u001B[0mself\u001B[0m\u001B[1;33m.\u001B[0m\u001B[0mfeature_names\u001B[0m \u001B[1;32mis\u001B[0m \u001B[1;32mnot\u001B[0m \u001B[1;32mNone\u001B[0m\u001B[1;33m:\u001B[0m\u001B[1;33m\u001B[0m\u001B[1;33m\u001B[0m\u001B[0m\n\u001B[0;32m    413\u001B[0m             \u001B[1;32mif\u001B[0m \u001B[0mlen\u001B[0m\u001B[1;33m(\u001B[0m\u001B[0mself\u001B[0m\u001B[1;33m.\u001B[0m\u001B[0mfeature_names\u001B[0m\u001B[1;33m)\u001B[0m \u001B[1;33m!=\u001B[0m \u001B[0mdecision_tree\u001B[0m\u001B[1;33m.\u001B[0m\u001B[0mn_features_\u001B[0m\u001B[1;33m:\u001B[0m\u001B[1;33m\u001B[0m\u001B[1;33m\u001B[0m\u001B[0m\n\u001B[1;32m--> 414\u001B[1;33m                 raise ValueError(\"Length of feature_names, %d \"\n\u001B[0m\u001B[0;32m    415\u001B[0m                                  \u001B[1;34m\"does not match number of features, %d\"\u001B[0m\u001B[1;33m\u001B[0m\u001B[1;33m\u001B[0m\u001B[0m\n\u001B[0;32m    416\u001B[0m                                  % (len(self.feature_names),\n",
      "\u001B[1;31mValueError\u001B[0m: Length of feature_names, 20 does not match number of features, 64"
     ]
    }
   ],
   "source": [
    "import graphviz\n",
    "\n",
    "#Get unique class values to display on the tree\n",
    "class_values=credit_df_out[class_col_name].unique()\n",
    "print (\"class Names\",feature_names)\n",
    "\n",
    "\n",
    "dot_data = tree.export_graphviz(clf, out_file=None, \n",
    "                                feature_names=feature_names,  \n",
    "                                class_names=class_values,\n",
    "                                filled=True)\n",
    "# Plot tree\n",
    "graph = graphviz.Source(dot_data, format=\"png\") \n",
    "graph"
   ]
  },
  {
   "cell_type": "code",
   "execution_count": 19,
   "metadata": {},
   "outputs": [],
   "source": [
    "y_pred = clf.predict(X_test)"
   ]
  },
  {
   "cell_type": "code",
   "execution_count": 20,
   "metadata": {},
   "outputs": [
    {
     "name": "stdout",
     "output_type": "stream",
     "text": [
      "Confusion Matrix\n",
      "[[ 14  42]\n",
      " [ 12 151]]\n",
      "TP:  151 , FP:  42 , TN:  14 , FN: 12\n"
     ]
    }
   ],
   "source": [
    "from sklearn.metrics import confusion_matrix\n",
    "cf=confusion_matrix(y_test, y_pred)\n",
    "print (\"Confusion Matrix\")\n",
    "print(cf)\n",
    "tn, fp, fn, tp=cf.ravel()\n",
    "print (\"TP: \", tp,\", FP: \", fp,\", TN: \", tn,\", FN:\", fn)"
   ]
  },
  {
   "cell_type": "code",
   "execution_count": 21,
   "metadata": {},
   "outputs": [
    {
     "name": "stdout",
     "output_type": "stream",
     "text": [
      "              precision    recall  f1-score   support\n",
      "\n",
      "           0       0.54      0.25      0.34        56\n",
      "           1       0.78      0.93      0.85       163\n",
      "\n",
      "    accuracy                           0.75       219\n",
      "   macro avg       0.66      0.59      0.59       219\n",
      "weighted avg       0.72      0.75      0.72       219\n",
      "\n"
     ]
    }
   ],
   "source": [
    "from sklearn.metrics import classification_report\n",
    "from sklearn import metrics\n",
    "\n",
    "print(classification_report(y_test, y_pred))"
   ]
  },
  {
   "cell_type": "code",
   "execution_count": 22,
   "metadata": {},
   "outputs": [],
   "source": [
    "from sklearn.naive_bayes import MultinomialNB\n",
    "\n",
    "#Create a MultiNomial NB Classifier\n",
    "nb = MultinomialNB()\n",
    "\n",
    "#Train the model using the training sets\n",
    "nb.fit(X_train, y_train)\n",
    "\n",
    "#Predict the response for test dataset\n",
    "y_pred = nb.predict(X_test)"
   ]
  },
  {
   "cell_type": "code",
   "execution_count": 23,
   "metadata": {},
   "outputs": [
    {
     "name": "stdout",
     "output_type": "stream",
     "text": [
      "Total Columns (including class) 21\n"
     ]
    }
   ],
   "source": [
    "print (\"Total Columns (including class)\",len(credit_df_out.columns))"
   ]
  },
  {
   "cell_type": "code",
   "execution_count": 24,
   "metadata": {},
   "outputs": [
    {
     "name": "stdout",
     "output_type": "stream",
     "text": [
      "Number of features used  20\n",
      "Classes  ['0' '1']\n",
      "Number of records for classes  [134. 375.]\n",
      "Log prior probability for classes  [-1.33460822 -0.30552199]\n",
      "Log conditional probability for each feature given a class\n",
      " [[-7.27020625 -4.89043613 -7.09327554 -6.95468938 -0.03314723 -7.35428937\n",
      "  -6.78469844 -6.71289727 -6.97850003 -7.75975448 -6.88373764 -7.04384209\n",
      "  -4.43865463 -6.89753097 -7.27830346 -7.613151   -6.8252103  -7.87836022\n",
      "  -7.58513797 -7.86365407]\n",
      " [-6.8051358  -4.99029897 -6.89942609 -6.82955016 -0.03534899 -7.07747544\n",
      "  -6.61480681 -6.75714107 -6.87924377 -7.72421334 -6.81445553 -7.05698045\n",
      "  -4.32767797 -6.84680849 -7.22414302 -7.54967392 -6.79406557 -7.85840941\n",
      "  -7.54383165 -7.82185181]]\n"
     ]
    }
   ],
   "source": [
    "print(\"Number of features used \",nb.n_features_)\n",
    "print(\"Classes \",nb.classes_)\n",
    "print(\"Number of records for classes \",nb.class_count_)\n",
    "print(\"Log prior probability for classes \", nb.class_log_prior_)\n",
    "print(\"Log conditional probability for each feature given a class\\n\",nb.feature_log_prob_)"
   ]
  },
  {
   "cell_type": "code",
   "execution_count": 25,
   "metadata": {},
   "outputs": [
    {
     "name": "stdout",
     "output_type": "stream",
     "text": [
      "              precision    recall  f1-score   support\n",
      "\n",
      "           0       0.29      0.36      0.32        56\n",
      "           1       0.76      0.69      0.72       163\n",
      "\n",
      "    accuracy                           0.61       219\n",
      "   macro avg       0.52      0.53      0.52       219\n",
      "weighted avg       0.64      0.61      0.62       219\n",
      "\n"
     ]
    }
   ],
   "source": [
    "from sklearn.metrics import classification_report\n",
    "from sklearn import metrics\n",
    "\n",
    "print(classification_report(y_test, y_pred))"
   ]
  },
  {
   "cell_type": "code",
   "execution_count": 26,
   "metadata": {},
   "outputs": [],
   "source": [
    "cat_cols=[\"Account Balance\",\"Payment Status of Previous Credit\",\"Purpose\",\"Value Savings/Stocks\",\"Length of current employment\",\"Sex & Marital Status\"\\\n",
    "          ,\"Guarantors\",\"Duration in Current address\",\"Most valuable available asset\",\"Concurrent Credits\",\"Type of apartment\",\"Occupation\", \\\n",
    "          \"Telephone\",\"Foreign Worker\"]"
   ]
  },
  {
   "cell_type": "code",
   "execution_count": 27,
   "metadata": {},
   "outputs": [
    {
     "data": {
      "text/plain": "                                 0      2       4       6       9\nCreditability                    1      1       1       1       1\nDuration of Credit (month)    18.0   12.0    12.0     8.0    24.0\nCredit Amount               1049.0  841.0  2171.0  3398.0  3758.0\nInstalment per cent            4.0    2.0     4.0     1.0     1.0\nAge (years)                   21.0   23.0    38.0    39.0    23.0\n...                            ...    ...     ...     ...     ...\nOccupation_4                     0      0       0       0       0\nTelephone_1                      1      1       1       1       1\nTelephone_2                      0      0       0       0       0\nForeign Worker_1                 1      1       0       0       1\nForeign Worker_2                 0      0       1       1       0\n\n[65 rows x 5 columns]",
      "text/html": "<div>\n<style scoped>\n    .dataframe tbody tr th:only-of-type {\n        vertical-align: middle;\n    }\n\n    .dataframe tbody tr th {\n        vertical-align: top;\n    }\n\n    .dataframe thead th {\n        text-align: right;\n    }\n</style>\n<table border=\"1\" class=\"dataframe\">\n  <thead>\n    <tr style=\"text-align: right;\">\n      <th></th>\n      <th>0</th>\n      <th>2</th>\n      <th>4</th>\n      <th>6</th>\n      <th>9</th>\n    </tr>\n  </thead>\n  <tbody>\n    <tr>\n      <th>Creditability</th>\n      <td>1</td>\n      <td>1</td>\n      <td>1</td>\n      <td>1</td>\n      <td>1</td>\n    </tr>\n    <tr>\n      <th>Duration of Credit (month)</th>\n      <td>18.0</td>\n      <td>12.0</td>\n      <td>12.0</td>\n      <td>8.0</td>\n      <td>24.0</td>\n    </tr>\n    <tr>\n      <th>Credit Amount</th>\n      <td>1049.0</td>\n      <td>841.0</td>\n      <td>2171.0</td>\n      <td>3398.0</td>\n      <td>3758.0</td>\n    </tr>\n    <tr>\n      <th>Instalment per cent</th>\n      <td>4.0</td>\n      <td>2.0</td>\n      <td>4.0</td>\n      <td>1.0</td>\n      <td>1.0</td>\n    </tr>\n    <tr>\n      <th>Age (years)</th>\n      <td>21.0</td>\n      <td>23.0</td>\n      <td>38.0</td>\n      <td>39.0</td>\n      <td>23.0</td>\n    </tr>\n    <tr>\n      <th>...</th>\n      <td>...</td>\n      <td>...</td>\n      <td>...</td>\n      <td>...</td>\n      <td>...</td>\n    </tr>\n    <tr>\n      <th>Occupation_4</th>\n      <td>0</td>\n      <td>0</td>\n      <td>0</td>\n      <td>0</td>\n      <td>0</td>\n    </tr>\n    <tr>\n      <th>Telephone_1</th>\n      <td>1</td>\n      <td>1</td>\n      <td>1</td>\n      <td>1</td>\n      <td>1</td>\n    </tr>\n    <tr>\n      <th>Telephone_2</th>\n      <td>0</td>\n      <td>0</td>\n      <td>0</td>\n      <td>0</td>\n      <td>0</td>\n    </tr>\n    <tr>\n      <th>Foreign Worker_1</th>\n      <td>1</td>\n      <td>1</td>\n      <td>0</td>\n      <td>0</td>\n      <td>1</td>\n    </tr>\n    <tr>\n      <th>Foreign Worker_2</th>\n      <td>0</td>\n      <td>0</td>\n      <td>1</td>\n      <td>1</td>\n      <td>0</td>\n    </tr>\n  </tbody>\n</table>\n<p>65 rows × 5 columns</p>\n</div>"
     },
     "execution_count": 27,
     "metadata": {},
     "output_type": "execute_result"
    }
   ],
   "source": [
    "# Create a copy of the data frame in memory with a different name\n",
    "df_onehot=credit_df_out.copy()\n",
    "#convert only categorical variables/features to dummy/one-hot features\n",
    "df_onehot = pd.get_dummies(credit_df_out, columns=cat_cols, prefix = cat_cols)\n",
    "#print the dataset\n",
    "np.transpose(df_onehot.head())"
   ]
  },
  {
   "cell_type": "code",
   "execution_count": 28,
   "metadata": {},
   "outputs": [],
   "source": [
    "#NAIVE BAYES WITH ONE HOT\n",
    "\n",
    "#Repeat the train test set split\n",
    "from sklearn.model_selection import train_test_split\n",
    "class_col_name=\"Creditability\"\n",
    "# Uncomment following line for class name for bank dataset\n",
    "# class_col_name=\"y\"\n",
    "# Uncomment following line for class name for Churn dataset\n",
    "#class_col_name=\"Churn\"\n",
    "one_hot_feature_names=df_onehot.columns[df_onehot.columns != class_col_name]\n",
    "# Split dataset into training set and test set\n",
    "X_train, X_test, y_train, y_test = train_test_split(df_onehot.loc[:, one_hot_feature_names], df_onehot[class_col_name], test_size=0.3,random_state=109) # 70% training and 30% test"
   ]
  },
  {
   "cell_type": "code",
   "execution_count": 29,
   "metadata": {},
   "outputs": [
    {
     "name": "stdout",
     "output_type": "stream",
     "text": [
      "Succesfully done..\n"
     ]
    }
   ],
   "source": [
    "# Repeat Naive Bayes modeling\n",
    "from sklearn.naive_bayes import MultinomialNB\n",
    "\n",
    "#Create a MultiNomial NB Classifier\n",
    "nb = MultinomialNB()\n",
    "\n",
    "#Train the model using the training sets\n",
    "nb.fit(X_train, y_train)\n",
    "\n",
    "#Predict the response for test dataset\n",
    "y_pred = nb.predict(X_test)\n",
    "print (\"Succesfully done..\")"
   ]
  },
  {
   "cell_type": "code",
   "execution_count": 30,
   "metadata": {},
   "outputs": [
    {
     "name": "stdout",
     "output_type": "stream",
     "text": [
      "Number of features used  64\n",
      "Classes  ['0' '1']\n",
      "Number of records for classes  [131. 378.]\n",
      "Log prior probability for classes  [-1.35725069 -0.29755382]\n",
      "Log conditional probability for each feature given a class\n",
      " [[ -4.83163085  -0.02861536  -6.66655149  -4.3898248   -7.54718577\n",
      "   -7.84053358  -8.61246164  -8.93914587 -10.52611093  -9.67881307\n",
      "  -10.42075041 -10.52611093  -8.3044949  -10.23842886  -9.63229305\n",
      "   -8.93914587 -12.72333551 -12.72333551  -9.35603968  -9.16798744\n",
      "  -11.62472322 -10.93157604 -10.52611093 -12.03018833 -10.32544023\n",
      "   -8.14862453  -9.95074678 -10.93157604 -11.62472322 -10.08427818\n",
      "  -10.42075041  -9.08574935  -8.75304359  -9.83296375  -9.89012216\n",
      "  -10.32544023  -8.69798382  -8.8113125   -9.83296375  -7.95265088\n",
      "  -10.32544023 -11.11389759  -9.72760323  -8.85213449  -9.50445968\n",
      "   -8.98566589  -9.13981657  -9.11241759  -8.91667302  -9.89012216\n",
      "   -9.77889653 -10.42075041  -8.06937516  -9.11241759  -8.23469914\n",
      "  -10.64389396 -11.11389759  -9.42749864  -8.3044949   -9.72760323\n",
      "   -8.29251871  -8.83151521  -7.84813818 -12.03018833]\n",
      " [ -4.97719689  -0.02854556  -6.75171836  -4.29180747  -7.54140347\n",
      "   -7.85384251  -9.58668609  -9.37253811 -10.39018133  -8.48311102\n",
      "  -11.39348344 -11.39348344  -8.47817273 -10.42408288  -8.93156631\n",
      "   -9.46064537 -10.1804608  -12.69276642  -9.50091927  -8.92384426\n",
      "  -11.59415414 -11.99961924 -11.01878999 -12.1819408  -10.29487115\n",
      "   -8.39775117 -10.1804608  -10.32564281 -10.53328218  -9.57187101\n",
      "  -10.84693973  -9.84013499  -8.85690478  -9.48731362  -9.19625886\n",
      "  -10.79564644  -9.00388697  -8.51837915  -9.94123111  -7.94205393\n",
      "  -11.22642936 -10.74685628  -9.94123111  -8.99558817  -9.74832745\n",
      "   -8.73513291  -9.01225522  -9.29156904  -8.90857679 -10.07780665\n",
      "  -10.10249926 -10.84693973  -8.01682717  -9.58668609  -8.12495203\n",
      "  -10.57250289 -11.84546856  -9.4738906   -8.24230263 -10.0301786\n",
      "   -8.348961    -8.78743241  -7.89422485 -11.01878999]]\n"
     ]
    }
   ],
   "source": [
    "print(\"Number of features used \",nb.n_features_)\n",
    "print(\"Classes \",nb.classes_)\n",
    "print(\"Number of records for classes \",nb.class_count_)\n",
    "print(\"Log prior probability for classes \", nb.class_log_prior_)\n",
    "print(\"Log conditional probability for each feature given a class\\n\",nb.feature_log_prob_)"
   ]
  },
  {
   "cell_type": "code",
   "execution_count": 31,
   "metadata": {},
   "outputs": [
    {
     "name": "stdout",
     "output_type": "stream",
     "text": [
      "Confusion Matrix\n",
      "[[ 31  28]\n",
      " [ 27 133]]\n",
      "TP:  133 , FP:  28 , TN:  31 , FN: 27\n"
     ]
    }
   ],
   "source": [
    "from sklearn.metrics import confusion_matrix\n",
    "cf=confusion_matrix(y_test, y_pred)\n",
    "print (\"Confusion Matrix\")\n",
    "print(cf)\n",
    "tn, fp, fn, tp=cf.ravel()\n",
    "print (\"TP: \", tp,\", FP: \", fp,\", TN: \", tn,\", FN:\", fn)"
   ]
  },
  {
   "cell_type": "code",
   "execution_count": 32,
   "metadata": {},
   "outputs": [
    {
     "name": "stdout",
     "output_type": "stream",
     "text": [
      "              precision    recall  f1-score   support\n",
      "\n",
      "           0       0.53      0.53      0.53        59\n",
      "           1       0.83      0.83      0.83       160\n",
      "\n",
      "    accuracy                           0.75       219\n",
      "   macro avg       0.68      0.68      0.68       219\n",
      "weighted avg       0.75      0.75      0.75       219\n",
      "\n"
     ]
    }
   ],
   "source": [
    "from sklearn.metrics import classification_report\n",
    "from sklearn import metrics\n",
    "\n",
    "print(classification_report(y_test, y_pred))"
   ]
  },
  {
   "cell_type": "code",
   "execution_count": 33,
   "metadata": {},
   "outputs": [
    {
     "name": "stdout",
     "output_type": "stream",
     "text": [
      "class Names ['1' '0']\n"
     ]
    },
    {
     "data": {
      "text/plain": "<graphviz.files.Source at 0x20ba62a3f70>",
      "image/svg+xml": "<?xml version=\"1.0\" encoding=\"UTF-8\" standalone=\"no\"?>\r\n<!DOCTYPE svg PUBLIC \"-//W3C//DTD SVG 1.1//EN\"\r\n \"http://www.w3.org/Graphics/SVG/1.1/DTD/svg11.dtd\">\r\n<!-- Generated by graphviz version 2.46.0 (20210118.1747)\r\n -->\r\n<!-- Title: Tree Pages: 1 -->\r\n<svg width=\"991pt\" height=\"433pt\"\r\n viewBox=\"0.00 0.00 990.50 433.00\" xmlns=\"http://www.w3.org/2000/svg\" xmlns:xlink=\"http://www.w3.org/1999/xlink\">\r\n<g id=\"graph0\" class=\"graph\" transform=\"scale(1 1) rotate(0) translate(4 429)\">\r\n<title>Tree</title>\r\n<polygon fill=\"white\" stroke=\"transparent\" points=\"-4,4 -4,-429 986.5,-429 986.5,4 -4,4\"/>\r\n<!-- 0 -->\r\n<g id=\"node1\" class=\"node\">\r\n<title>0</title>\r\n<polygon fill=\"#7ebfee\" stroke=\"black\" points=\"586.5,-425 419.5,-425 419.5,-342 586.5,-342 586.5,-425\"/>\r\n<text text-anchor=\"middle\" x=\"503\" y=\"-409.8\" font-family=\"Times New Roman,serif\" font-size=\"14.00\">Account Balance_4 &lt;= 0.5</text>\r\n<text text-anchor=\"middle\" x=\"503\" y=\"-394.8\" font-family=\"Times New Roman,serif\" font-size=\"14.00\">gini = 0.382</text>\r\n<text text-anchor=\"middle\" x=\"503\" y=\"-379.8\" font-family=\"Times New Roman,serif\" font-size=\"14.00\">samples = 509</text>\r\n<text text-anchor=\"middle\" x=\"503\" y=\"-364.8\" font-family=\"Times New Roman,serif\" font-size=\"14.00\">value = [131, 378]</text>\r\n<text text-anchor=\"middle\" x=\"503\" y=\"-349.8\" font-family=\"Times New Roman,serif\" font-size=\"14.00\">class = 0</text>\r\n</g>\r\n<!-- 1 -->\r\n<g id=\"node2\" class=\"node\">\r\n<title>1</title>\r\n<polygon fill=\"#b5daf5\" stroke=\"black\" points=\"443.5,-306 314.5,-306 314.5,-223 443.5,-223 443.5,-306\"/>\r\n<text text-anchor=\"middle\" x=\"379\" y=\"-290.8\" font-family=\"Times New Roman,serif\" font-size=\"14.00\">Age (years) &lt;= 34.5</text>\r\n<text text-anchor=\"middle\" x=\"379\" y=\"-275.8\" font-family=\"Times New Roman,serif\" font-size=\"14.00\">gini = 0.474</text>\r\n<text text-anchor=\"middle\" x=\"379\" y=\"-260.8\" font-family=\"Times New Roman,serif\" font-size=\"14.00\">samples = 288</text>\r\n<text text-anchor=\"middle\" x=\"379\" y=\"-245.8\" font-family=\"Times New Roman,serif\" font-size=\"14.00\">value = [111, 177]</text>\r\n<text text-anchor=\"middle\" x=\"379\" y=\"-230.8\" font-family=\"Times New Roman,serif\" font-size=\"14.00\">class = 0</text>\r\n</g>\r\n<!-- 0&#45;&gt;1 -->\r\n<g id=\"edge1\" class=\"edge\">\r\n<title>0&#45;&gt;1</title>\r\n<path fill=\"none\" stroke=\"black\" d=\"M459.98,-341.91C450.07,-332.56 439.45,-322.54 429.27,-312.93\"/>\r\n<polygon fill=\"black\" stroke=\"black\" points=\"431.62,-310.34 421.95,-306.02 426.82,-315.43 431.62,-310.34\"/>\r\n<text text-anchor=\"middle\" x=\"422.67\" y=\"-327.31\" font-family=\"Times New Roman,serif\" font-size=\"14.00\">True</text>\r\n</g>\r\n<!-- 8 -->\r\n<g id=\"node9\" class=\"node\">\r\n<title>8</title>\r\n<polygon fill=\"#4da7e8\" stroke=\"black\" points=\"691.5,-306 562.5,-306 562.5,-223 691.5,-223 691.5,-306\"/>\r\n<text text-anchor=\"middle\" x=\"627\" y=\"-290.8\" font-family=\"Times New Roman,serif\" font-size=\"14.00\">Age (years) &lt;= 22.5</text>\r\n<text text-anchor=\"middle\" x=\"627\" y=\"-275.8\" font-family=\"Times New Roman,serif\" font-size=\"14.00\">gini = 0.165</text>\r\n<text text-anchor=\"middle\" x=\"627\" y=\"-260.8\" font-family=\"Times New Roman,serif\" font-size=\"14.00\">samples = 221</text>\r\n<text text-anchor=\"middle\" x=\"627\" y=\"-245.8\" font-family=\"Times New Roman,serif\" font-size=\"14.00\">value = [20, 201]</text>\r\n<text text-anchor=\"middle\" x=\"627\" y=\"-230.8\" font-family=\"Times New Roman,serif\" font-size=\"14.00\">class = 0</text>\r\n</g>\r\n<!-- 0&#45;&gt;8 -->\r\n<g id=\"edge8\" class=\"edge\">\r\n<title>0&#45;&gt;8</title>\r\n<path fill=\"none\" stroke=\"black\" d=\"M546.02,-341.91C555.93,-332.56 566.55,-322.54 576.73,-312.93\"/>\r\n<polygon fill=\"black\" stroke=\"black\" points=\"579.18,-315.43 584.05,-306.02 574.38,-310.34 579.18,-315.43\"/>\r\n<text text-anchor=\"middle\" x=\"583.33\" y=\"-327.31\" font-family=\"Times New Roman,serif\" font-size=\"14.00\">False</text>\r\n</g>\r\n<!-- 2 -->\r\n<g id=\"node3\" class=\"node\">\r\n<title>2</title>\r\n<polygon fill=\"#dfeffb\" stroke=\"black\" points=\"228.5,-187 109.5,-187 109.5,-104 228.5,-104 228.5,-187\"/>\r\n<text text-anchor=\"middle\" x=\"169\" y=\"-171.8\" font-family=\"Times New Roman,serif\" font-size=\"14.00\">Purpose_0 &lt;= 0.5</text>\r\n<text text-anchor=\"middle\" x=\"169\" y=\"-156.8\" font-family=\"Times New Roman,serif\" font-size=\"14.00\">gini = 0.496</text>\r\n<text text-anchor=\"middle\" x=\"169\" y=\"-141.8\" font-family=\"Times New Roman,serif\" font-size=\"14.00\">samples = 184</text>\r\n<text text-anchor=\"middle\" x=\"169\" y=\"-126.8\" font-family=\"Times New Roman,serif\" font-size=\"14.00\">value = [84, 100]</text>\r\n<text text-anchor=\"middle\" x=\"169\" y=\"-111.8\" font-family=\"Times New Roman,serif\" font-size=\"14.00\">class = 0</text>\r\n</g>\r\n<!-- 1&#45;&gt;2 -->\r\n<g id=\"edge2\" class=\"edge\">\r\n<title>1&#45;&gt;2</title>\r\n<path fill=\"none\" stroke=\"black\" d=\"M314.35,-229.43C292.17,-217.56 267.07,-203.93 237.51,-187.24\"/>\r\n<polygon fill=\"black\" stroke=\"black\" points=\"239.05,-184.09 228.62,-182.21 235.6,-190.18 239.05,-184.09\"/>\r\n</g>\r\n<!-- 5 -->\r\n<g id=\"node6\" class=\"node\">\r\n<title>5</title>\r\n<polygon fill=\"#7ebfee\" stroke=\"black\" points=\"511.5,-187 246.5,-187 246.5,-104 511.5,-104 511.5,-187\"/>\r\n<text text-anchor=\"middle\" x=\"379\" y=\"-171.8\" font-family=\"Times New Roman,serif\" font-size=\"14.00\">Payment Status of Previous Credit_0 &lt;= 0.5</text>\r\n<text text-anchor=\"middle\" x=\"379\" y=\"-156.8\" font-family=\"Times New Roman,serif\" font-size=\"14.00\">gini = 0.384</text>\r\n<text text-anchor=\"middle\" x=\"379\" y=\"-141.8\" font-family=\"Times New Roman,serif\" font-size=\"14.00\">samples = 104</text>\r\n<text text-anchor=\"middle\" x=\"379\" y=\"-126.8\" font-family=\"Times New Roman,serif\" font-size=\"14.00\">value = [27, 77]</text>\r\n<text text-anchor=\"middle\" x=\"379\" y=\"-111.8\" font-family=\"Times New Roman,serif\" font-size=\"14.00\">class = 0</text>\r\n</g>\r\n<!-- 1&#45;&gt;5 -->\r\n<g id=\"edge5\" class=\"edge\">\r\n<title>1&#45;&gt;5</title>\r\n<path fill=\"none\" stroke=\"black\" d=\"M379,-222.91C379,-214.65 379,-205.86 379,-197.3\"/>\r\n<polygon fill=\"black\" stroke=\"black\" points=\"382.5,-197.02 379,-187.02 375.5,-197.02 382.5,-197.02\"/>\r\n</g>\r\n<!-- 3 -->\r\n<g id=\"node4\" class=\"node\">\r\n<title>3</title>\r\n<polygon fill=\"#baddf6\" stroke=\"black\" points=\"104,-68 0,-68 0,0 104,0 104,-68\"/>\r\n<text text-anchor=\"middle\" x=\"52\" y=\"-52.8\" font-family=\"Times New Roman,serif\" font-size=\"14.00\">gini = 0.478</text>\r\n<text text-anchor=\"middle\" x=\"52\" y=\"-37.8\" font-family=\"Times New Roman,serif\" font-size=\"14.00\">samples = 137</text>\r\n<text text-anchor=\"middle\" x=\"52\" y=\"-22.8\" font-family=\"Times New Roman,serif\" font-size=\"14.00\">value = [54, 83]</text>\r\n<text text-anchor=\"middle\" x=\"52\" y=\"-7.8\" font-family=\"Times New Roman,serif\" font-size=\"14.00\">class = 0</text>\r\n</g>\r\n<!-- 2&#45;&gt;3 -->\r\n<g id=\"edge3\" class=\"edge\">\r\n<title>2&#45;&gt;3</title>\r\n<path fill=\"none\" stroke=\"black\" d=\"M125.43,-103.73C115.49,-94.42 104.94,-84.54 95.02,-75.26\"/>\r\n<polygon fill=\"black\" stroke=\"black\" points=\"97.27,-72.58 87.58,-68.3 92.49,-77.69 97.27,-72.58\"/>\r\n</g>\r\n<!-- 4 -->\r\n<g id=\"node5\" class=\"node\">\r\n<title>4</title>\r\n<polygon fill=\"#f4c8a9\" stroke=\"black\" points=\"226,-68 122,-68 122,0 226,0 226,-68\"/>\r\n<text text-anchor=\"middle\" x=\"174\" y=\"-52.8\" font-family=\"Times New Roman,serif\" font-size=\"14.00\">gini = 0.462</text>\r\n<text text-anchor=\"middle\" x=\"174\" y=\"-37.8\" font-family=\"Times New Roman,serif\" font-size=\"14.00\">samples = 47</text>\r\n<text text-anchor=\"middle\" x=\"174\" y=\"-22.8\" font-family=\"Times New Roman,serif\" font-size=\"14.00\">value = [30, 17]</text>\r\n<text text-anchor=\"middle\" x=\"174\" y=\"-7.8\" font-family=\"Times New Roman,serif\" font-size=\"14.00\">class = 1</text>\r\n</g>\r\n<!-- 2&#45;&gt;4 -->\r\n<g id=\"edge4\" class=\"edge\">\r\n<title>2&#45;&gt;4</title>\r\n<path fill=\"none\" stroke=\"black\" d=\"M170.86,-103.73C171.24,-95.52 171.63,-86.86 172.01,-78.56\"/>\r\n<polygon fill=\"black\" stroke=\"black\" points=\"175.52,-78.45 172.48,-68.3 168.53,-78.13 175.52,-78.45\"/>\r\n</g>\r\n<!-- 6 -->\r\n<g id=\"node7\" class=\"node\">\r\n<title>6</title>\r\n<polygon fill=\"#77bced\" stroke=\"black\" points=\"387,-68 283,-68 283,0 387,0 387,-68\"/>\r\n<text text-anchor=\"middle\" x=\"335\" y=\"-52.8\" font-family=\"Times New Roman,serif\" font-size=\"14.00\">gini = 0.362</text>\r\n<text text-anchor=\"middle\" x=\"335\" y=\"-37.8\" font-family=\"Times New Roman,serif\" font-size=\"14.00\">samples = 101</text>\r\n<text text-anchor=\"middle\" x=\"335\" y=\"-22.8\" font-family=\"Times New Roman,serif\" font-size=\"14.00\">value = [24, 77]</text>\r\n<text text-anchor=\"middle\" x=\"335\" y=\"-7.8\" font-family=\"Times New Roman,serif\" font-size=\"14.00\">class = 0</text>\r\n</g>\r\n<!-- 5&#45;&gt;6 -->\r\n<g id=\"edge6\" class=\"edge\">\r\n<title>5&#45;&gt;6</title>\r\n<path fill=\"none\" stroke=\"black\" d=\"M362.62,-103.73C359.21,-95.24 355.61,-86.28 352.17,-77.73\"/>\r\n<polygon fill=\"black\" stroke=\"black\" points=\"355.36,-76.27 348.38,-68.3 348.86,-78.88 355.36,-76.27\"/>\r\n</g>\r\n<!-- 7 -->\r\n<g id=\"node8\" class=\"node\">\r\n<title>7</title>\r\n<polygon fill=\"#e58139\" stroke=\"black\" points=\"496.5,-68 405.5,-68 405.5,0 496.5,0 496.5,-68\"/>\r\n<text text-anchor=\"middle\" x=\"451\" y=\"-52.8\" font-family=\"Times New Roman,serif\" font-size=\"14.00\">gini = 0.0</text>\r\n<text text-anchor=\"middle\" x=\"451\" y=\"-37.8\" font-family=\"Times New Roman,serif\" font-size=\"14.00\">samples = 3</text>\r\n<text text-anchor=\"middle\" x=\"451\" y=\"-22.8\" font-family=\"Times New Roman,serif\" font-size=\"14.00\">value = [3, 0]</text>\r\n<text text-anchor=\"middle\" x=\"451\" y=\"-7.8\" font-family=\"Times New Roman,serif\" font-size=\"14.00\">class = 1</text>\r\n</g>\r\n<!-- 5&#45;&gt;7 -->\r\n<g id=\"edge7\" class=\"edge\">\r\n<title>5&#45;&gt;7</title>\r\n<path fill=\"none\" stroke=\"black\" d=\"M405.81,-103.73C411.57,-94.97 417.66,-85.7 423.45,-76.91\"/>\r\n<polygon fill=\"black\" stroke=\"black\" points=\"426.53,-78.58 429.1,-68.3 420.69,-74.73 426.53,-78.58\"/>\r\n</g>\r\n<!-- 9 -->\r\n<g id=\"node10\" class=\"node\">\r\n<title>9</title>\r\n<polygon fill=\"#aad5f4\" stroke=\"black\" points=\"724,-187 530,-187 530,-104 724,-104 724,-187\"/>\r\n<text text-anchor=\"middle\" x=\"627\" y=\"-171.8\" font-family=\"Times New Roman,serif\" font-size=\"14.00\">Value Savings/Stocks_1 &lt;= 0.5</text>\r\n<text text-anchor=\"middle\" x=\"627\" y=\"-156.8\" font-family=\"Times New Roman,serif\" font-size=\"14.00\">gini = 0.463</text>\r\n<text text-anchor=\"middle\" x=\"627\" y=\"-141.8\" font-family=\"Times New Roman,serif\" font-size=\"14.00\">samples = 11</text>\r\n<text text-anchor=\"middle\" x=\"627\" y=\"-126.8\" font-family=\"Times New Roman,serif\" font-size=\"14.00\">value = [4, 7]</text>\r\n<text text-anchor=\"middle\" x=\"627\" y=\"-111.8\" font-family=\"Times New Roman,serif\" font-size=\"14.00\">class = 0</text>\r\n</g>\r\n<!-- 8&#45;&gt;9 -->\r\n<g id=\"edge9\" class=\"edge\">\r\n<title>8&#45;&gt;9</title>\r\n<path fill=\"none\" stroke=\"black\" d=\"M627,-222.91C627,-214.65 627,-205.86 627,-197.3\"/>\r\n<polygon fill=\"black\" stroke=\"black\" points=\"630.5,-197.02 627,-187.02 623.5,-197.02 630.5,-197.02\"/>\r\n</g>\r\n<!-- 12 -->\r\n<g id=\"node13\" class=\"node\">\r\n<title>12</title>\r\n<polygon fill=\"#49a5e7\" stroke=\"black\" points=\"903.5,-187 742.5,-187 742.5,-104 903.5,-104 903.5,-187\"/>\r\n<text text-anchor=\"middle\" x=\"823\" y=\"-171.8\" font-family=\"Times New Roman,serif\" font-size=\"14.00\">Credit Amount &lt;= 7834.5</text>\r\n<text text-anchor=\"middle\" x=\"823\" y=\"-156.8\" font-family=\"Times New Roman,serif\" font-size=\"14.00\">gini = 0.141</text>\r\n<text text-anchor=\"middle\" x=\"823\" y=\"-141.8\" font-family=\"Times New Roman,serif\" font-size=\"14.00\">samples = 210</text>\r\n<text text-anchor=\"middle\" x=\"823\" y=\"-126.8\" font-family=\"Times New Roman,serif\" font-size=\"14.00\">value = [16, 194]</text>\r\n<text text-anchor=\"middle\" x=\"823\" y=\"-111.8\" font-family=\"Times New Roman,serif\" font-size=\"14.00\">class = 0</text>\r\n</g>\r\n<!-- 8&#45;&gt;12 -->\r\n<g id=\"edge12\" class=\"edge\">\r\n<title>8&#45;&gt;12</title>\r\n<path fill=\"none\" stroke=\"black\" d=\"M691.72,-224.87C709.16,-214.45 728.2,-203.09 746.23,-192.33\"/>\r\n<polygon fill=\"black\" stroke=\"black\" points=\"748.19,-195.23 754.98,-187.1 744.6,-189.22 748.19,-195.23\"/>\r\n</g>\r\n<!-- 10 -->\r\n<g id=\"node11\" class=\"node\">\r\n<title>10</title>\r\n<polygon fill=\"#399de5\" stroke=\"black\" points=\"625.5,-68 534.5,-68 534.5,0 625.5,0 625.5,-68\"/>\r\n<text text-anchor=\"middle\" x=\"580\" y=\"-52.8\" font-family=\"Times New Roman,serif\" font-size=\"14.00\">gini = 0.0</text>\r\n<text text-anchor=\"middle\" x=\"580\" y=\"-37.8\" font-family=\"Times New Roman,serif\" font-size=\"14.00\">samples = 5</text>\r\n<text text-anchor=\"middle\" x=\"580\" y=\"-22.8\" font-family=\"Times New Roman,serif\" font-size=\"14.00\">value = [0, 5]</text>\r\n<text text-anchor=\"middle\" x=\"580\" y=\"-7.8\" font-family=\"Times New Roman,serif\" font-size=\"14.00\">class = 0</text>\r\n</g>\r\n<!-- 9&#45;&gt;10 -->\r\n<g id=\"edge10\" class=\"edge\">\r\n<title>9&#45;&gt;10</title>\r\n<path fill=\"none\" stroke=\"black\" d=\"M609.5,-103.73C605.86,-95.24 602.01,-86.28 598.34,-77.73\"/>\r\n<polygon fill=\"black\" stroke=\"black\" points=\"601.45,-76.11 594.29,-68.3 595.02,-78.87 601.45,-76.11\"/>\r\n</g>\r\n<!-- 11 -->\r\n<g id=\"node12\" class=\"node\">\r\n<title>11</title>\r\n<polygon fill=\"#f2c09c\" stroke=\"black\" points=\"734.5,-68 643.5,-68 643.5,0 734.5,0 734.5,-68\"/>\r\n<text text-anchor=\"middle\" x=\"689\" y=\"-52.8\" font-family=\"Times New Roman,serif\" font-size=\"14.00\">gini = 0.444</text>\r\n<text text-anchor=\"middle\" x=\"689\" y=\"-37.8\" font-family=\"Times New Roman,serif\" font-size=\"14.00\">samples = 6</text>\r\n<text text-anchor=\"middle\" x=\"689\" y=\"-22.8\" font-family=\"Times New Roman,serif\" font-size=\"14.00\">value = [4, 2]</text>\r\n<text text-anchor=\"middle\" x=\"689\" y=\"-7.8\" font-family=\"Times New Roman,serif\" font-size=\"14.00\">class = 1</text>\r\n</g>\r\n<!-- 9&#45;&gt;11 -->\r\n<g id=\"edge11\" class=\"edge\">\r\n<title>9&#45;&gt;11</title>\r\n<path fill=\"none\" stroke=\"black\" d=\"M650.09,-103.73C654.99,-95.06 660.18,-85.9 665.12,-77.18\"/>\r\n<polygon fill=\"black\" stroke=\"black\" points=\"668.26,-78.73 670.15,-68.3 662.17,-75.28 668.26,-78.73\"/>\r\n</g>\r\n<!-- 13 -->\r\n<g id=\"node14\" class=\"node\">\r\n<title>13</title>\r\n<polygon fill=\"#48a5e7\" stroke=\"black\" points=\"873.5,-68 762.5,-68 762.5,0 873.5,0 873.5,-68\"/>\r\n<text text-anchor=\"middle\" x=\"818\" y=\"-52.8\" font-family=\"Times New Roman,serif\" font-size=\"14.00\">gini = 0.133</text>\r\n<text text-anchor=\"middle\" x=\"818\" y=\"-37.8\" font-family=\"Times New Roman,serif\" font-size=\"14.00\">samples = 209</text>\r\n<text text-anchor=\"middle\" x=\"818\" y=\"-22.8\" font-family=\"Times New Roman,serif\" font-size=\"14.00\">value = [15, 194]</text>\r\n<text text-anchor=\"middle\" x=\"818\" y=\"-7.8\" font-family=\"Times New Roman,serif\" font-size=\"14.00\">class = 0</text>\r\n</g>\r\n<!-- 12&#45;&gt;13 -->\r\n<g id=\"edge13\" class=\"edge\">\r\n<title>12&#45;&gt;13</title>\r\n<path fill=\"none\" stroke=\"black\" d=\"M821.14,-103.73C820.76,-95.52 820.37,-86.86 819.99,-78.56\"/>\r\n<polygon fill=\"black\" stroke=\"black\" points=\"823.47,-78.13 819.52,-68.3 816.48,-78.45 823.47,-78.13\"/>\r\n</g>\r\n<!-- 14 -->\r\n<g id=\"node15\" class=\"node\">\r\n<title>14</title>\r\n<polygon fill=\"#e58139\" stroke=\"black\" points=\"982.5,-68 891.5,-68 891.5,0 982.5,0 982.5,-68\"/>\r\n<text text-anchor=\"middle\" x=\"937\" y=\"-52.8\" font-family=\"Times New Roman,serif\" font-size=\"14.00\">gini = 0.0</text>\r\n<text text-anchor=\"middle\" x=\"937\" y=\"-37.8\" font-family=\"Times New Roman,serif\" font-size=\"14.00\">samples = 1</text>\r\n<text text-anchor=\"middle\" x=\"937\" y=\"-22.8\" font-family=\"Times New Roman,serif\" font-size=\"14.00\">value = [1, 0]</text>\r\n<text text-anchor=\"middle\" x=\"937\" y=\"-7.8\" font-family=\"Times New Roman,serif\" font-size=\"14.00\">class = 1</text>\r\n</g>\r\n<!-- 12&#45;&gt;14 -->\r\n<g id=\"edge14\" class=\"edge\">\r\n<title>12&#45;&gt;14</title>\r\n<path fill=\"none\" stroke=\"black\" d=\"M865.45,-103.73C875.13,-94.42 885.42,-84.54 895.08,-75.26\"/>\r\n<polygon fill=\"black\" stroke=\"black\" points=\"897.54,-77.75 902.33,-68.3 892.7,-72.7 897.54,-77.75\"/>\r\n</g>\r\n</g>\r\n</svg>\r\n"
     },
     "execution_count": 33,
     "metadata": {},
     "output_type": "execute_result"
    }
   ],
   "source": [
    "from sklearn import tree\n",
    "clf = tree.DecisionTreeClassifier(max_depth=3)\n",
    "clf = clf.fit(X_train, y_train)\n",
    "import graphviz\n",
    "#Get unique class values to display on the tree\n",
    "class_values=df_onehot[class_col_name].unique()\n",
    "print (\"class Names\",class_values)\n",
    "\n",
    "dot_data = tree.export_graphviz(clf, out_file=None, \n",
    "                                feature_names=one_hot_feature_names,  \n",
    "                                class_names=class_values,\n",
    "                                filled=True)\n",
    "\n",
    "# Draw graph\n",
    "graph = graphviz.Source(dot_data, format=\"png\") \n",
    "graph"
   ]
  },
  {
   "cell_type": "code",
   "execution_count": 34,
   "metadata": {},
   "outputs": [],
   "source": [
    "# Perform prediction on the test set\n",
    "y_pred = clf.predict(X_test)"
   ]
  },
  {
   "cell_type": "code",
   "execution_count": 35,
   "metadata": {},
   "outputs": [
    {
     "name": "stdout",
     "output_type": "stream",
     "text": [
      "              precision    recall  f1-score   support\n",
      "\n",
      "           0       0.63      0.20      0.31        59\n",
      "           1       0.77      0.96      0.85       160\n",
      "\n",
      "    accuracy                           0.75       219\n",
      "   macro avg       0.70      0.58      0.58       219\n",
      "weighted avg       0.73      0.75      0.70       219\n",
      "\n"
     ]
    }
   ],
   "source": [
    "# Get classification report\n",
    "from sklearn.metrics import classification_report\n",
    "from sklearn import metrics\n",
    "\n",
    "print(classification_report(y_test, y_pred))"
   ]
  },
  {
   "cell_type": "code",
   "execution_count": 36,
   "metadata": {},
   "outputs": [],
   "source": [
    "from pandas_profiling import ProfileReport\n",
    "profile = ProfileReport(credit_df_out)"
   ]
  },
  {
   "cell_type": "code",
   "execution_count": 37,
   "metadata": {},
   "outputs": [
    {
     "data": {
      "text/plain": "Summarize dataset:   0%|          | 0/35 [00:00<?, ?it/s]",
      "application/vnd.jupyter.widget-view+json": {
       "version_major": 2,
       "version_minor": 0,
       "model_id": "5d53cbaf2f534f9cbd93fecce465a88a"
      }
     },
     "metadata": {},
     "output_type": "display_data"
    },
    {
     "data": {
      "text/plain": "Generate report structure:   0%|          | 0/1 [00:00<?, ?it/s]",
      "application/vnd.jupyter.widget-view+json": {
       "version_major": 2,
       "version_minor": 0,
       "model_id": "3d30c46930564ac09074d1739b7e139d"
      }
     },
     "metadata": {},
     "output_type": "display_data"
    },
    {
     "data": {
      "text/plain": "Render widgets:   0%|          | 0/1 [00:00<?, ?it/s]",
      "application/vnd.jupyter.widget-view+json": {
       "version_major": 2,
       "version_minor": 0,
       "model_id": "45ae0b242c5e4f929feb28ccc01ec2e5"
      }
     },
     "metadata": {},
     "output_type": "display_data"
    },
    {
     "data": {
      "text/plain": "VBox(children=(Tab(children=(Tab(children=(GridBox(children=(VBox(children=(GridspecLayout(children=(HTML(valu…",
      "application/vnd.jupyter.widget-view+json": {
       "version_major": 2,
       "version_minor": 0,
       "model_id": "ddc34f532b4a4a4dbf167304fb3fd00a"
      }
     },
     "metadata": {},
     "output_type": "display_data"
    }
   ],
   "source": [
    "profile.to_widgets()"
   ]
  },
  {
   "cell_type": "code",
   "execution_count": 38,
   "metadata": {},
   "outputs": [
    {
     "data": {
      "text/plain": "<Figure size 288x288 with 1 Axes>",
      "image/png": "[encoded data removed]"
     },
     "metadata": {
      "needs_background": "light"
     },
     "output_type": "display_data"
    }
   ],
   "source": [
    "plt.matshow(credit_df_out.corr())\n",
    "plt.show()"
   ]
  },
  {
   "cell_type": "code",
   "execution_count": 39,
   "metadata": {},
   "outputs": [
    {
     "name": "stdout",
     "output_type": "stream",
     "text": [
      "|--- feature_9 <= 0.50\n",
      "|   |--- feature_3 <= 34.50\n",
      "|   |   |--- feature_15 <= 0.50\n",
      "|   |   |   |--- feature_0 <= 37.50\n",
      "|   |   |   |   |--- feature_41 <= 0.50\n",
      "|   |   |   |   |   |--- class: 1\n",
      "|   |   |   |   |--- feature_41 >  0.50\n",
      "|   |   |   |   |   |--- class: 1\n",
      "|   |   |   |--- feature_0 >  37.50\n",
      "|   |   |   |   |--- class: 0\n",
      "|   |   |--- feature_15 >  0.50\n",
      "|   |   |   |--- feature_1 <= 5550.00\n",
      "|   |   |   |   |--- feature_34 <= 0.50\n",
      "|   |   |   |   |   |--- class: 0\n",
      "|   |   |   |   |--- feature_34 >  0.50\n",
      "|   |   |   |   |   |--- class: 1\n",
      "|   |   |   |--- feature_1 >  5550.00\n",
      "|   |   |   |   |--- class: 1\n",
      "|   |--- feature_3 >  34.50\n",
      "|   |   |--- feature_10 <= 0.50\n",
      "|   |   |   |--- feature_0 <= 11.50\n",
      "|   |   |   |   |--- feature_13 <= 0.50\n",
      "|   |   |   |   |   |--- class: 1\n",
      "|   |   |   |   |--- feature_13 >  0.50\n",
      "|   |   |   |   |   |--- class: 1\n",
      "|   |   |   |--- feature_0 >  11.50\n",
      "|   |   |   |   |--- feature_1 <= 1227.00\n",
      "|   |   |   |   |   |--- class: 0\n",
      "|   |   |   |   |--- feature_1 >  1227.00\n",
      "|   |   |   |   |   |--- class: 1\n",
      "|   |   |--- feature_10 >  0.50\n",
      "|   |   |   |--- class: 0\n",
      "|--- feature_9 >  0.50\n",
      "|   |--- feature_3 <= 22.50\n",
      "|   |   |--- feature_25 <= 0.50\n",
      "|   |   |   |--- class: 1\n",
      "|   |   |--- feature_25 >  0.50\n",
      "|   |   |   |--- feature_47 <= 0.50\n",
      "|   |   |   |   |--- class: 0\n",
      "|   |   |   |--- feature_47 >  0.50\n",
      "|   |   |   |   |--- class: 1\n",
      "|   |--- feature_3 >  22.50\n",
      "|   |   |--- feature_1 <= 7834.50\n",
      "|   |   |   |--- feature_59 <= 0.50\n",
      "|   |   |   |   |--- feature_12 <= 0.50\n",
      "|   |   |   |   |   |--- class: 1\n",
      "|   |   |   |   |--- feature_12 >  0.50\n",
      "|   |   |   |   |   |--- class: 1\n",
      "|   |   |   |--- feature_59 >  0.50\n",
      "|   |   |   |   |--- feature_24 <= 0.50\n",
      "|   |   |   |   |   |--- class: 1\n",
      "|   |   |   |   |--- feature_24 >  0.50\n",
      "|   |   |   |   |   |--- class: 0\n",
      "|   |   |--- feature_1 >  7834.50\n",
      "|   |   |   |--- class: 0\n",
      "\n"
     ]
    }
   ],
   "source": [
    "from sklearn.tree import DecisionTreeClassifier\n",
    "from sklearn.tree import export_text\n",
    "\n",
    "decision_tree = DecisionTreeClassifier(random_state=0, max_depth=5)\n",
    "decision_tree = decision_tree.fit(X_train, y_train)\n",
    "r = export_text(decision_tree)\n",
    "print(r)"
   ]
  },
  {
   "cell_type": "code",
   "execution_count": 40,
   "metadata": {},
   "outputs": [
    {
     "name": "stderr",
     "output_type": "stream",
     "text": [
      "c:\\users\\spongebob\\appdata\\local\\programs\\python\\python38\\lib\\site-packages\\pandas\\io\\formats\\style.py:1264: RuntimeWarning: All-NaN slice encountered\n",
      "  smin = np.nanmin(s.to_numpy()) if vmin is None else vmin\n",
      "c:\\users\\spongebob\\appdata\\local\\programs\\python\\python38\\lib\\site-packages\\pandas\\io\\formats\\style.py:1265: RuntimeWarning: All-NaN slice encountered\n",
      "  smax = np.nanmax(s.to_numpy()) if vmax is None else vmax\n"
     ]
    },
    {
     "data": {
      "text/plain": "<pandas.io.formats.style.Styler at 0x20bb827f9a0>",
      "text/html": "<style  type=\"text/css\" >\n#T_7791b_row0_col0,#T_7791b_row1_col1,#T_7791b_row2_col2,#T_7791b_row3_col3,#T_7791b_row4_col4{\n            background-color:  #b40426;\n            color:  #f1f1f1;\n        }#T_7791b_row0_col1{\n            background-color:  #f5c2aa;\n            color:  #000000;\n        }#T_7791b_row0_col2{\n            background-color:  #a9c6fd;\n            color:  #000000;\n        }#T_7791b_row0_col3,#T_7791b_row1_col2,#T_7791b_row2_col1,#T_7791b_row2_col4,#T_7791b_row3_col0{\n            background-color:  #3b4cc0;\n            color:  #f1f1f1;\n        }#T_7791b_row0_col4{\n            background-color:  #445acc;\n            color:  #f1f1f1;\n        }#T_7791b_row0_col5,#T_7791b_row1_col5,#T_7791b_row2_col5,#T_7791b_row3_col5,#T_7791b_row4_col5,#T_7791b_row5_col0,#T_7791b_row5_col1,#T_7791b_row5_col2,#T_7791b_row5_col3,#T_7791b_row5_col4,#T_7791b_row5_col5{\n            background-color:  #000000;\n            color:  #f1f1f1;\n        }#T_7791b_row1_col0{\n            background-color:  #ead4c8;\n            color:  #000000;\n        }#T_7791b_row1_col3{\n            background-color:  #465ecf;\n            color:  #f1f1f1;\n        }#T_7791b_row1_col4{\n            background-color:  #4a63d3;\n            color:  #f1f1f1;\n        }#T_7791b_row2_col0{\n            background-color:  #799cf8;\n            color:  #000000;\n        }#T_7791b_row2_col3{\n            background-color:  #5e7de7;\n            color:  #000000;\n        }#T_7791b_row3_col1{\n            background-color:  #7da0f9;\n            color:  #000000;\n        }#T_7791b_row3_col2{\n            background-color:  #92b4fe;\n            color:  #000000;\n        }#T_7791b_row3_col4,#T_7791b_row4_col0{\n            background-color:  #5673e0;\n            color:  #000000;\n        }#T_7791b_row4_col1{\n            background-color:  #90b2fe;\n            color:  #000000;\n        }#T_7791b_row4_col2{\n            background-color:  #82a6fb;\n            color:  #000000;\n        }#T_7791b_row4_col3{\n            background-color:  #688aef;\n            color:  #000000;\n        }</style><table id=\"T_7791b_\" ><thead>    <tr>        <th class=\"blank level0\" ></th>        <th class=\"col_heading level0 col0\" >Duration of Credit (month)</th>        <th class=\"col_heading level0 col1\" >Credit Amount</th>        <th class=\"col_heading level0 col2\" >Instalment per cent</th>        <th class=\"col_heading level0 col3\" >Age (years)</th>        <th class=\"col_heading level0 col4\" >No of Credits at this Bank</th>        <th class=\"col_heading level0 col5\" >No of dependents</th>    </tr></thead><tbody>\n                <tr>\n                        <th id=\"T_7791b_level0_row0\" class=\"row_heading level0 row0\" >Duration of Credit (month)</th>\n                        <td id=\"T_7791b_row0_col0\" class=\"data row0 col0\" >1.000000</td>\n                        <td id=\"T_7791b_row0_col1\" class=\"data row0 col1\" >0.537822</td>\n                        <td id=\"T_7791b_row0_col2\" class=\"data row0 col2\" >0.162011</td>\n                        <td id=\"T_7791b_row0_col3\" class=\"data row0 col3\" >-0.039961</td>\n                        <td id=\"T_7791b_row0_col4\" class=\"data row0 col4\" >0.055051</td>\n                        <td id=\"T_7791b_row0_col5\" class=\"data row0 col5\" >nan</td>\n            </tr>\n            <tr>\n                        <th id=\"T_7791b_level0_row1\" class=\"row_heading level0 row1\" >Credit Amount</th>\n                        <td id=\"T_7791b_row1_col0\" class=\"data row1 col0\" >0.537822</td>\n                        <td id=\"T_7791b_row1_col1\" class=\"data row1 col1\" >1.000000</td>\n                        <td id=\"T_7791b_row1_col2\" class=\"data row1 col2\" >-0.254025</td>\n                        <td id=\"T_7791b_row1_col3\" class=\"data row1 col3\" >0.002301</td>\n                        <td id=\"T_7791b_row1_col4\" class=\"data row1 col4\" >0.073791</td>\n                        <td id=\"T_7791b_row1_col5\" class=\"data row1 col5\" >nan</td>\n            </tr>\n            <tr>\n                        <th id=\"T_7791b_level0_row2\" class=\"row_heading level0 row2\" >Instalment per cent</th>\n                        <td id=\"T_7791b_row2_col0\" class=\"data row2 col0\" >0.162011</td>\n                        <td id=\"T_7791b_row2_col1\" class=\"data row2 col1\" >-0.254025</td>\n                        <td id=\"T_7791b_row2_col2\" class=\"data row2 col2\" >1.000000</td>\n                        <td id=\"T_7791b_row2_col3\" class=\"data row2 col3\" >0.078864</td>\n                        <td id=\"T_7791b_row2_col4\" class=\"data row2 col4\" >0.022354</td>\n                        <td id=\"T_7791b_row2_col5\" class=\"data row2 col5\" >nan</td>\n            </tr>\n            <tr>\n                        <th id=\"T_7791b_level0_row3\" class=\"row_heading level0 row3\" >Age (years)</th>\n                        <td id=\"T_7791b_row3_col0\" class=\"data row3 col0\" >-0.039961</td>\n                        <td id=\"T_7791b_row3_col1\" class=\"data row3 col1\" >0.002301</td>\n                        <td id=\"T_7791b_row3_col2\" class=\"data row3 col2\" >0.078864</td>\n                        <td id=\"T_7791b_row3_col3\" class=\"data row3 col3\" >1.000000</td>\n                        <td id=\"T_7791b_row3_col4\" class=\"data row3 col4\" >0.111317</td>\n                        <td id=\"T_7791b_row3_col5\" class=\"data row3 col5\" >nan</td>\n            </tr>\n            <tr>\n                        <th id=\"T_7791b_level0_row4\" class=\"row_heading level0 row4\" >No of Credits at this Bank</th>\n                        <td id=\"T_7791b_row4_col0\" class=\"data row4 col0\" >0.055051</td>\n                        <td id=\"T_7791b_row4_col1\" class=\"data row4 col1\" >0.073791</td>\n                        <td id=\"T_7791b_row4_col2\" class=\"data row4 col2\" >0.022354</td>\n                        <td id=\"T_7791b_row4_col3\" class=\"data row4 col3\" >0.111317</td>\n                        <td id=\"T_7791b_row4_col4\" class=\"data row4 col4\" >1.000000</td>\n                        <td id=\"T_7791b_row4_col5\" class=\"data row4 col5\" >nan</td>\n            </tr>\n            <tr>\n                        <th id=\"T_7791b_level0_row5\" class=\"row_heading level0 row5\" >No of dependents</th>\n                        <td id=\"T_7791b_row5_col0\" class=\"data row5 col0\" >nan</td>\n                        <td id=\"T_7791b_row5_col1\" class=\"data row5 col1\" >nan</td>\n                        <td id=\"T_7791b_row5_col2\" class=\"data row5 col2\" >nan</td>\n                        <td id=\"T_7791b_row5_col3\" class=\"data row5 col3\" >nan</td>\n                        <td id=\"T_7791b_row5_col4\" class=\"data row5 col4\" >nan</td>\n                        <td id=\"T_7791b_row5_col5\" class=\"data row5 col5\" >nan</td>\n            </tr>\n    </tbody></table>"
     },
     "execution_count": 40,
     "metadata": {},
     "output_type": "execute_result"
    }
   ],
   "source": [
    "rs = np.random.RandomState(0)\n",
    "df = pd.DataFrame(rs.rand(10, 10))\n",
    "corr = credit_df_out.corr()\n",
    "corr.style.background_gradient(cmap='coolwarm')"
   ]
  },
  {
   "cell_type": "code",
   "execution_count": 41,
   "metadata": {},
   "outputs": [
    {
     "name": "stdout",
     "output_type": "stream",
     "text": [
      "class Names Index(['Account Balance', 'Duration of Credit (month)',\n",
      "       'Payment Status of Previous Credit', 'Purpose', 'Credit Amount',\n",
      "       'Value Savings/Stocks', 'Length of current employment',\n",
      "       'Instalment per cent', 'Sex & Marital Status', 'Guarantors',\n",
      "       'Duration in Current address', 'Most valuable available asset',\n",
      "       'Age (years)', 'Concurrent Credits', 'Type of apartment',\n",
      "       'No of Credits at this Bank', 'Occupation', 'No of dependents',\n",
      "       'Telephone', 'Foreign Worker'],\n",
      "      dtype='object')\n"
     ]
    }
   ],
   "source": [
    "print (\"class Names\",feature_names)"
   ]
  },
  {
   "cell_type": "code",
   "execution_count": 42,
   "metadata": {},
   "outputs": [
    {
     "name": "stdout",
     "output_type": "stream",
     "text": [
      "[0.730593607305936, 0.730593607305936, 0.7534246575342466, 0.7488584474885844, 0.726027397260274]\n"
     ]
    }
   ],
   "source": [
    "# List of values to try for max_depth:\n",
    "max_depth_range = list(range(1, 6))# List to store the average RMSE for each value of max_depth:\n",
    "accuracy = [] \n",
    "for depth in max_depth_range:\n",
    "    clf = DecisionTreeClassifier(max_depth = depth, random_state = 0)\n",
    "    clf.fit(X_train, y_train)    \n",
    "    score = clf.score(X_test, y_test)\n",
    "    accuracy.append(score)\n",
    "print(accuracy)"
   ]
  },
  {
   "cell_type": "code",
   "execution_count": 43,
   "metadata": {},
   "outputs": [
    {
     "data": {
      "text/plain": "508    1\n70     1\n465    1\n280    1\n435    1\n      ..\n216    1\n839    0\n308    1\n75     1\n248    1\nName: Creditability, Length: 219, dtype: object"
     },
     "execution_count": 43,
     "metadata": {},
     "output_type": "execute_result"
    }
   ],
   "source": [
    "y_test"
   ]
  },
  {
   "cell_type": "code",
   "execution_count": 44,
   "metadata": {},
   "outputs": [],
   "source": [
    "X_train, X_test, y_train, y_test = train_test_split(credit_df_out.loc[:, feature_names], credit_df_out[class_col_name], test_size=0.3,random_state=1) "
   ]
  },
  {
   "cell_type": "code",
   "execution_count": 45,
   "metadata": {},
   "outputs": [
    {
     "data": {
      "text/plain": "    Account Balance  Duration of Credit (month)  \\\n0                 1                        18.0   \n2                 2                        12.0   \n4                 1                        12.0   \n6                 1                         8.0   \n9                 2                        24.0   \n..              ...                         ...   \n993               1                        18.0   \n994               1                        12.0   \n996               1                        24.0   \n998               2                        12.0   \n999               1                        30.0   \n\n    Payment Status of Previous Credit Purpose  Credit Amount  \\\n0                                   4       2         1049.0   \n2                                   2       9          841.0   \n4                                   4       0         2171.0   \n6                                   4       0         3398.0   \n9                                   2       3         3758.0   \n..                                ...     ...            ...   \n993                                 4       0         3966.0   \n994                                 0       3         6199.0   \n996                                 2       0         2303.0   \n998                                 2       3         6468.0   \n999                                 2       2         6350.0   \n\n    Value Savings/Stocks Length of current employment  Instalment per cent  \\\n0                      1                            2                  4.0   \n2                      2                            4                  2.0   \n4                      1                            3                  4.0   \n6                      1                            4                  1.0   \n9                      3                            1                  1.0   \n..                   ...                          ...                  ...   \n993                    1                            5                  1.0   \n994                    1                            3                  4.0   \n996                    1                            5                  4.0   \n998                    5                            1                  2.0   \n999                    5                            5                  4.0   \n\n    Sex & Marital Status Guarantors Duration in Current address  \\\n0                      2          1                           4   \n2                      2          1                           4   \n4                      3          1                           4   \n6                      3          1                           4   \n9                      2          1                           4   \n..                   ...        ...                         ...   \n993                    2          1                           4   \n994                    3          1                           2   \n996                    3          2                           1   \n998                    3          1                           1   \n999                    3          1                           4   \n\n    Most valuable available asset  Age (years) Concurrent Credits  \\\n0                               2         21.0                  3   \n2                               1         23.0                  3   \n4                               2         38.0                  1   \n6                               1         39.0                  3   \n9                               4         23.0                  3   \n..                            ...          ...                ...   \n993                             1         33.0                  1   \n994                             2         28.0                  3   \n996                             1         45.0                  3   \n998                             4         52.0                  3   \n999                             2         31.0                  3   \n\n    Type of apartment  No of Credits at this Bank Occupation  \\\n0                   1                         1.0          3   \n2                   1                         1.0          2   \n4                   2                         2.0          2   \n6                   2                         2.0          2   \n9                   1                         1.0          1   \n..                ...                         ...        ...   \n993                 1                         3.0          3   \n994                 1                         2.0          3   \n996                 2                         1.0          3   \n998                 2                         1.0          4   \n999                 2                         1.0          3   \n\n     No of dependents Telephone Foreign Worker  \n0                 1.0         1              1  \n2                 1.0         1              1  \n4                 1.0         1              2  \n6                 1.0         1              2  \n9                 1.0         1              1  \n..                ...       ...            ...  \n993               1.0         2              1  \n994               1.0         2              1  \n996               1.0         1              1  \n998               1.0         2              1  \n999               1.0         1              1  \n\n[728 rows x 20 columns]",
      "text/html": "<div>\n<style scoped>\n    .dataframe tbody tr th:only-of-type {\n        vertical-align: middle;\n    }\n\n    .dataframe tbody tr th {\n        vertical-align: top;\n    }\n\n    .dataframe thead th {\n        text-align: right;\n    }\n</style>\n<table border=\"1\" class=\"dataframe\">\n  <thead>\n    <tr style=\"text-align: right;\">\n      <th></th>\n      <th>Account Balance</th>\n      <th>Duration of Credit (month)</th>\n      <th>Payment Status of Previous Credit</th>\n      <th>Purpose</th>\n      <th>Credit Amount</th>\n      <th>Value Savings/Stocks</th>\n      <th>Length of current employment</th>\n      <th>Instalment per cent</th>\n      <th>Sex &amp; Marital Status</th>\n      <th>Guarantors</th>\n      <th>Duration in Current address</th>\n      <th>Most valuable available asset</th>\n      <th>Age (years)</th>\n      <th>Concurrent Credits</th>\n      <th>Type of apartment</th>\n      <th>No of Credits at this Bank</th>\n      <th>Occupation</th>\n      <th>No of dependents</th>\n      <th>Telephone</th>\n      <th>Foreign Worker</th>\n    </tr>\n  </thead>\n  <tbody>\n    <tr>\n      <th>0</th>\n      <td>1</td>\n      <td>18.0</td>\n      <td>4</td>\n      <td>2</td>\n      <td>1049.0</td>\n      <td>1</td>\n      <td>2</td>\n      <td>4.0</td>\n      <td>2</td>\n      <td>1</td>\n      <td>4</td>\n      <td>2</td>\n      <td>21.0</td>\n      <td>3</td>\n      <td>1</td>\n      <td>1.0</td>\n      <td>3</td>\n      <td>1.0</td>\n      <td>1</td>\n      <td>1</td>\n    </tr>\n    <tr>\n      <th>2</th>\n      <td>2</td>\n      <td>12.0</td>\n      <td>2</td>\n      <td>9</td>\n      <td>841.0</td>\n      <td>2</td>\n      <td>4</td>\n      <td>2.0</td>\n      <td>2</td>\n      <td>1</td>\n      <td>4</td>\n      <td>1</td>\n      <td>23.0</td>\n      <td>3</td>\n      <td>1</td>\n      <td>1.0</td>\n      <td>2</td>\n      <td>1.0</td>\n      <td>1</td>\n      <td>1</td>\n    </tr>\n    <tr>\n      <th>4</th>\n      <td>1</td>\n      <td>12.0</td>\n      <td>4</td>\n      <td>0</td>\n      <td>2171.0</td>\n      <td>1</td>\n      <td>3</td>\n      <td>4.0</td>\n      <td>3</td>\n      <td>1</td>\n      <td>4</td>\n      <td>2</td>\n      <td>38.0</td>\n      <td>1</td>\n      <td>2</td>\n      <td>2.0</td>\n      <td>2</td>\n      <td>1.0</td>\n      <td>1</td>\n      <td>2</td>\n    </tr>\n    <tr>\n      <th>6</th>\n      <td>1</td>\n      <td>8.0</td>\n      <td>4</td>\n      <td>0</td>\n      <td>3398.0</td>\n      <td>1</td>\n      <td>4</td>\n      <td>1.0</td>\n      <td>3</td>\n      <td>1</td>\n      <td>4</td>\n      <td>1</td>\n      <td>39.0</td>\n      <td>3</td>\n      <td>2</td>\n      <td>2.0</td>\n      <td>2</td>\n      <td>1.0</td>\n      <td>1</td>\n      <td>2</td>\n    </tr>\n    <tr>\n      <th>9</th>\n      <td>2</td>\n      <td>24.0</td>\n      <td>2</td>\n      <td>3</td>\n      <td>3758.0</td>\n      <td>3</td>\n      <td>1</td>\n      <td>1.0</td>\n      <td>2</td>\n      <td>1</td>\n      <td>4</td>\n      <td>4</td>\n      <td>23.0</td>\n      <td>3</td>\n      <td>1</td>\n      <td>1.0</td>\n      <td>1</td>\n      <td>1.0</td>\n      <td>1</td>\n      <td>1</td>\n    </tr>\n    <tr>\n      <th>...</th>\n      <td>...</td>\n      <td>...</td>\n      <td>...</td>\n      <td>...</td>\n      <td>...</td>\n      <td>...</td>\n      <td>...</td>\n      <td>...</td>\n      <td>...</td>\n      <td>...</td>\n      <td>...</td>\n      <td>...</td>\n      <td>...</td>\n      <td>...</td>\n      <td>...</td>\n      <td>...</td>\n      <td>...</td>\n      <td>...</td>\n      <td>...</td>\n      <td>...</td>\n    </tr>\n    <tr>\n      <th>993</th>\n      <td>1</td>\n      <td>18.0</td>\n      <td>4</td>\n      <td>0</td>\n      <td>3966.0</td>\n      <td>1</td>\n      <td>5</td>\n      <td>1.0</td>\n      <td>2</td>\n      <td>1</td>\n      <td>4</td>\n      <td>1</td>\n      <td>33.0</td>\n      <td>1</td>\n      <td>1</td>\n      <td>3.0</td>\n      <td>3</td>\n      <td>1.0</td>\n      <td>2</td>\n      <td>1</td>\n    </tr>\n    <tr>\n      <th>994</th>\n      <td>1</td>\n      <td>12.0</td>\n      <td>0</td>\n      <td>3</td>\n      <td>6199.0</td>\n      <td>1</td>\n      <td>3</td>\n      <td>4.0</td>\n      <td>3</td>\n      <td>1</td>\n      <td>2</td>\n      <td>2</td>\n      <td>28.0</td>\n      <td>3</td>\n      <td>1</td>\n      <td>2.0</td>\n      <td>3</td>\n      <td>1.0</td>\n      <td>2</td>\n      <td>1</td>\n    </tr>\n    <tr>\n      <th>996</th>\n      <td>1</td>\n      <td>24.0</td>\n      <td>2</td>\n      <td>0</td>\n      <td>2303.0</td>\n      <td>1</td>\n      <td>5</td>\n      <td>4.0</td>\n      <td>3</td>\n      <td>2</td>\n      <td>1</td>\n      <td>1</td>\n      <td>45.0</td>\n      <td>3</td>\n      <td>2</td>\n      <td>1.0</td>\n      <td>3</td>\n      <td>1.0</td>\n      <td>1</td>\n      <td>1</td>\n    </tr>\n    <tr>\n      <th>998</th>\n      <td>2</td>\n      <td>12.0</td>\n      <td>2</td>\n      <td>3</td>\n      <td>6468.0</td>\n      <td>5</td>\n      <td>1</td>\n      <td>2.0</td>\n      <td>3</td>\n      <td>1</td>\n      <td>1</td>\n      <td>4</td>\n      <td>52.0</td>\n      <td>3</td>\n      <td>2</td>\n      <td>1.0</td>\n      <td>4</td>\n      <td>1.0</td>\n      <td>2</td>\n      <td>1</td>\n    </tr>\n    <tr>\n      <th>999</th>\n      <td>1</td>\n      <td>30.0</td>\n      <td>2</td>\n      <td>2</td>\n      <td>6350.0</td>\n      <td>5</td>\n      <td>5</td>\n      <td>4.0</td>\n      <td>3</td>\n      <td>1</td>\n      <td>4</td>\n      <td>2</td>\n      <td>31.0</td>\n      <td>3</td>\n      <td>2</td>\n      <td>1.0</td>\n      <td>3</td>\n      <td>1.0</td>\n      <td>1</td>\n      <td>1</td>\n    </tr>\n  </tbody>\n</table>\n<p>728 rows × 20 columns</p>\n</div>"
     },
     "execution_count": 45,
     "metadata": {},
     "output_type": "execute_result"
    }
   ],
   "source": [
    "credit_df_out.loc[:, feature_names]"
   ]
  },
  {
   "cell_type": "code",
   "execution_count": 46,
   "metadata": {},
   "outputs": [
    {
     "data": {
      "text/plain": "array([[2.67400e+03, 3.26021e+05, 4.26000e+02, 4.16000e+03, 1.76000e+02,\n        1.31000e+02, 6.00000e+01, 4.30000e+01, 8.00000e+00, 2.00000e+01,\n        9.00000e+00, 8.00000e+00, 8.20000e+01, 1.10000e+01, 2.10000e+01,\n        4.30000e+01, 0.00000e+00, 0.00000e+00, 2.80000e+01, 3.40000e+01,\n        2.00000e+00, 5.00000e+00, 8.00000e+00, 1.00000e+00, 1.00000e+01,\n        9.60000e+01, 1.50000e+01, 5.00000e+00, 2.00000e+00, 1.30000e+01,\n        9.00000e+00, 3.70000e+01, 5.20000e+01, 1.70000e+01, 1.60000e+01,\n        1.00000e+01, 5.50000e+01, 4.90000e+01, 1.70000e+01, 1.17000e+02,\n        1.00000e+01, 4.00000e+00, 1.90000e+01, 4.70000e+01, 2.40000e+01,\n        4.10000e+01, 3.50000e+01, 3.60000e+01, 4.40000e+01, 1.60000e+01,\n        1.80000e+01, 9.00000e+00, 1.04000e+02, 3.60000e+01, 8.80000e+01,\n        7.00000e+00, 4.00000e+00, 2.60000e+01, 8.20000e+01, 1.90000e+01,\n        8.30000e+01, 4.80000e+01, 1.30000e+02, 1.00000e+00],\n       [6.72800e+03, 9.48685e+05, 1.14000e+03, 1.33530e+04, 5.17000e+02,\n        3.78000e+02, 6.60000e+01, 8.20000e+01, 2.90000e+01, 2.01000e+02,\n        1.00000e+01, 1.00000e+01, 2.02000e+02, 2.80000e+01, 1.28000e+02,\n        7.50000e+01, 3.60000e+01, 2.00000e+00, 7.20000e+01, 1.29000e+02,\n        8.00000e+00, 5.00000e+00, 1.50000e+01, 4.00000e+00, 3.20000e+01,\n        2.19000e+02, 3.60000e+01, 3.10000e+01, 2.50000e+01, 6.70000e+01,\n        1.80000e+01, 5.10000e+01, 1.38000e+02, 7.30000e+01, 9.80000e+01,\n        1.90000e+01, 1.19000e+02, 1.94000e+02, 4.60000e+01, 3.46000e+02,\n        1.20000e+01, 2.00000e+01, 4.60000e+01, 1.20000e+02, 5.60000e+01,\n        1.56000e+02, 1.18000e+02, 8.90000e+01, 1.31000e+02, 4.00000e+01,\n        3.90000e+01, 1.80000e+01, 3.21000e+02, 6.60000e+01, 2.88000e+02,\n        2.40000e+01, 6.00000e+00, 7.40000e+01, 2.56000e+02, 4.20000e+01,\n        2.30000e+02, 1.48000e+02, 3.63000e+02, 1.50000e+01]])"
     },
     "execution_count": 46,
     "metadata": {},
     "output_type": "execute_result"
    }
   ],
   "source": [
    "nb.feature_count_"
   ]
  },
  {
   "cell_type": "code",
   "execution_count": 47,
   "metadata": {},
   "outputs": [
    {
     "name": "stdout",
     "output_type": "stream",
     "text": [
      "Confusion Matrix\n",
      "[[  5  51]\n",
      " [ 14 149]]\n",
      "TP:  149 , FP:  51 , TN:  5 , FN: 14\n"
     ]
    }
   ],
   "source": [
    "from sklearn.metrics import confusion_matrix\n",
    "cf=confusion_matrix(y_test, y_pred)\n",
    "print (\"Confusion Matrix\")\n",
    "print(cf)\n",
    "tn, fp, fn, tp=cf.ravel()\n",
    "print (\"TP: \", tp,\", FP: \", fp,\", TN: \", tn,\", FN:\", fn)"
   ]
  }
 ],
 "metadata": {
  "kernelspec": {
   "display_name": "Python 3",
   "language": "python",
   "name": "python3"
  },
  "language_info": {
   "codemirror_mode": {
    "name": "ipython",
    "version": 3
   },
   "file_extension": ".py",
   "mimetype": "text/x-python",
   "name": "python",
   "nbconvert_exporter": "python",
   "pygments_lexer": "ipython3",
   "version": "3.7.6"
  }
 },
 "nbformat": 4,
 "nbformat_minor": 4
}